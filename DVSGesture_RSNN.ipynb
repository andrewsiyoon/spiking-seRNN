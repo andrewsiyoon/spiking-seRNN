{
  "cells": [
    {
      "cell_type": "markdown",
      "metadata": {
        "id": "view-in-github",
        "colab_type": "text"
      },
      "source": [
        "<a href=\"https://colab.research.google.com/github/andrewsiyoon/spiking-seRNN/blob/main/DVSGesture_RSNN.ipynb\" target=\"_parent\"><img src=\"https://colab.research.google.com/assets/colab-badge.svg\" alt=\"Open In Colab\"/></a>"
      ]
    },
    {
      "cell_type": "code",
      "source": [
        "%%capture\n",
        "pip install tonic"
      ],
      "metadata": {
        "id": "RkZfg9Q8A1Ue"
      },
      "execution_count": 1,
      "outputs": []
    },
    {
      "cell_type": "code",
      "source": [
        "%%capture\n",
        "!git clone https://github.com/jeshraghian/snntorch\n",
        "%cd snntorch\n",
        "!python3 setup.py install"
      ],
      "metadata": {
        "id": "EgxmQtTZA20T"
      },
      "execution_count": 2,
      "outputs": []
    },
    {
      "cell_type": "code",
      "execution_count": 3,
      "metadata": {
        "id": "mFx5IONaAwZc"
      },
      "outputs": [],
      "source": [
        "#Imports -----\n",
        "\n",
        "import torch, torch.nn as nn\n",
        "import snntorch as snn\n",
        "import numpy as np\n",
        "import scipy \n",
        "import tonic\n",
        "\n",
        "import random\n",
        "\n",
        "import matplotlib.pyplot as plt\n",
        "from matplotlib.gridspec import GridSpec\n",
        "\n",
        "import seaborn as sns"
      ]
    },
    {
      "cell_type": "code",
      "execution_count": 4,
      "metadata": {
        "colab": {
          "base_uri": "https://localhost:8080/"
        },
        "id": "aroKvJr1AwZd",
        "outputId": "450d0219-d653-47ce-b3ef-6c28073f6225"
      },
      "outputs": [
        {
          "output_type": "execute_result",
          "data": {
            "text/plain": [
              "<torch._C.Generator at 0x7f72847200f0>"
            ]
          },
          "metadata": {},
          "execution_count": 4
        }
      ],
      "source": [
        "#Random seeds -----\n",
        "\n",
        "random.seed(211)\n",
        "torch.manual_seed(211)"
      ]
    },
    {
      "cell_type": "code",
      "execution_count": 5,
      "metadata": {
        "id": "dZd1sEauAwZf"
      },
      "outputs": [],
      "source": [
        "#DVS Gesture -----\n",
        "\n",
        "import tonic\n",
        "import tonic.transforms as transforms\n",
        "from tonic import DiskCachedDataset\n",
        "\n",
        "from torch.utils.data import DataLoader\n",
        "\n",
        "#Define variables (batch size, sensor size)\n",
        "batch_size = 64\n",
        "data_path = '/data/DVSGesture'\n",
        "dtype = torch.float\n",
        "device = torch.device(\"cuda\") if torch.cuda.is_available() else torch.device(\"cpu\")\n",
        "sensor_size = tonic.datasets.DVSGesture.sensor_size\n",
        "\n",
        "#Define transformations\n",
        "frame_transform = tonic.transforms.Compose([transforms.Denoise(filter_time=10000), transforms.ToFrame(sensor_size=sensor_size, n_time_bins = 20)])\n",
        "\n",
        "#Define training and test sets\n",
        "DVS_train = tonic.datasets.DVSGesture(save_to='./data', transform=frame_transform, train=True)\n",
        "DVS_test = tonic.datasets.DVSGesture(save_to='./data', transform=frame_transform, train=False)\n",
        "\n",
        "#Create cached sets\n",
        "cached_trainset = DiskCachedDataset(DVS_train, cache_path='./cache/DVSGesture/train')\n",
        "cached_testset = DiskCachedDataset(DVS_test, cache_path='./cache/DVSGesture/test')\n",
        "\n",
        "#Create dataloaders\n",
        "trainloader = DataLoader(cached_trainset, batch_size=batch_size, collate_fn=tonic.collation.PadTensors(batch_first=False), shuffle=True, drop_last = True)\n",
        "testloader = DataLoader(cached_testset, batch_size=batch_size, collate_fn=tonic.collation.PadTensors(batch_first=False), drop_last = True)"
      ]
    },
    {
      "cell_type": "code",
      "execution_count": 6,
      "metadata": {
        "id": "eDHhmsHuAwZg"
      },
      "outputs": [],
      "source": [
        "#Initialize membrane time constant distribution -----\n",
        "\n",
        "tau_mem = 20e-3\n",
        "dist_shape = 3\n",
        "time_step = 0.5e-3\n",
        "\n",
        "def clip_tc(x):\n",
        "    clipped_tc = x.clamp_(0.7165, 0.995)\n",
        "    return clipped_tc\n",
        "\n",
        "def init_tc():\n",
        "    dist_gamma = np.random.gamma(dist_shape, tau_mem / 3, 100)\n",
        "    dist_beta = torch.from_numpy(np.exp(-time_step / dist_gamma))\n",
        "    clipped_beta = clip_tc(dist_beta)\n",
        "    return clipped_beta"
      ]
    },
    {
      "cell_type": "code",
      "execution_count": 7,
      "metadata": {
        "id": "G5NHdjZaAwZg"
      },
      "outputs": [],
      "source": [
        "#Model architecture -----\n",
        "\n",
        "from snntorch import surrogate\n",
        "\n",
        "#Size parameters\n",
        "num_inputs = 128*128*2\n",
        "num_hidden = 100\n",
        "num_outputs = 11\n",
        "\n",
        "#Network parameters\n",
        "het_tau = init_tc().to(device)\n",
        "hom_tau = 0.9753\n",
        "\n",
        "#Optimization mechanism\n",
        "spike_grad = surrogate.fast_sigmoid()\n",
        "\n",
        "#Model definition\n",
        "class Net(nn.Module):\n",
        "    def __init__(self):\n",
        "        super().__init__()\n",
        "\n",
        "        #Initialize layers\n",
        "        self.fc1 = nn.Linear(num_inputs, num_hidden)\n",
        "        self.lif1 = snn.RLeaky(beta = het_tau, linear_features = num_hidden, learn_beta = True, spike_grad = spike_grad)\n",
        "        self.fc2 = nn.Linear(num_hidden, num_outputs)\n",
        "        self.lif2 = snn.Leaky(beta = hom_tau, spike_grad = spike_grad)\n",
        "\n",
        "    def forward(self, x):\n",
        "\n",
        "        #Initialize parameters\n",
        "        spk1, mem1 = self.lif1.init_rleaky() #init_rleaky() creates a tuple [_SpikeTensor, _SpikeTensor], assigns each to mem1 and spk1\n",
        "        mem2 = self.lif2.init_leaky() #init_leaky() creates a tensor _SpikeTensor \n",
        "\n",
        "        #Record final layer\n",
        "        spk_rec = []\n",
        "        mem_rec = []\n",
        "\n",
        "        #Forward loop\n",
        "        for step in range(data.size(0)): #Iterate over the number of time steps in each mini-batch\n",
        "            batched_data = data[step].view(batch_size, num_inputs) #Reshape input tensor to [batch_size, num_inputs]\n",
        "            cur1 = self.fc1(batched_data)\n",
        "            spk1, mem1 = self.lif1(cur1, spk1, mem1)\n",
        "            cur2 = self.fc2(spk1)\n",
        "            spk2, mem2 = self.lif2(cur2, mem2)\n",
        "\n",
        "            spk_rec.append(spk2)\n",
        "            mem_rec.append(mem2)\n",
        "\n",
        "        #Convert final lists to tensors\n",
        "        spk_rec = torch.stack(spk_rec)\n",
        "        mem_rec = torch.stack(mem_rec)\n",
        "        \n",
        "        return spk_rec, mem_rec\n",
        "\n",
        "net = Net().to(device)"
      ]
    },
    {
      "cell_type": "code",
      "execution_count": 8,
      "metadata": {
        "colab": {
          "base_uri": "https://localhost:8080/",
          "height": 297
        },
        "id": "CLQQtHWnAwZh",
        "outputId": "cfd74a9e-3926-4635-c2f8-cc01a14c3b8e"
      },
      "outputs": [
        {
          "output_type": "execute_result",
          "data": {
            "text/plain": [
              "Text(0.5, 0, 'ms')"
            ]
          },
          "metadata": {},
          "execution_count": 8
        },
        {
          "output_type": "display_data",
          "data": {
            "text/plain": [
              "<Figure size 432x288 with 1 Axes>"
            ],
            "image/png": "[encoded data removed]"
          },
          "metadata": {
            "needs_background": "light"
          }
        }
      ],
      "source": [
        "#Model visualizations (pre-training) -----  \n",
        "\n",
        "# #All layers and associated parameters\n",
        "# for name, param in net.named_parameters():\n",
        "#     print(f\"Layer: {name} | Size: {param.size()} | Values : {param} \\n\")\n",
        "\n",
        "#Membrane time constant distribution\n",
        "#Define plot + parameters\n",
        "tau = (-time_step / np.log(het_tau.cpu())) / 1e-3\n",
        "fig, ax = plt.subplots()\n",
        "tc_distribution = sns.histplot(data = tau, kde = False, ax = ax, binwidth = 3)\n",
        "\n",
        "#Set x-axis limit and remove y-axis\n",
        "ax.set_xlim(0,100)\n",
        "ax.axes.get_yaxis().set_visible(False)\n",
        "plt.xlabel('ms')"
      ]
    },
    {
      "cell_type": "code",
      "execution_count": 9,
      "metadata": {
        "id": "PSe1Gii6AwZh"
      },
      "outputs": [],
      "source": [
        "#Optimizer and loss function -----\n",
        "\n",
        "import snntorch.functional as SF\n",
        "\n",
        "optimizer = torch.optim.Adam(net.parameters(), lr = 1e-3, betas = (0.9, 0.999))\n",
        "loss_fn = SF.mse_count_loss(correct_rate = 0.8, incorrect_rate = 0.2)"
      ]
    },
    {
      "cell_type": "code",
      "execution_count": 10,
      "metadata": {
        "id": "PUa16H_MAwZi"
      },
      "outputs": [],
      "source": [
        "#Distance matrix -----\n",
        "\n",
        "network_structure = [5, 5, 4]\n",
        "distance_metric = 'euclidean'\n",
        "distance_power = 1\n",
        "\n",
        "nx = np.arange(network_structure[0])\n",
        "ny = np.arange(network_structure[1])\n",
        "nz = np.arange(network_structure[2])\n",
        "\n",
        "[x,y,z] = np.meshgrid(nx,ny,nz)\n",
        "coordinates = [x.ravel(),y.ravel(),z.ravel()]\n",
        "\n",
        "euclidean_vector = scipy.spatial.distance.pdist(np.transpose(coordinates), metric=distance_metric)\n",
        "euclidean = scipy.spatial.distance.squareform(euclidean_vector**distance_power)\n",
        "distance_matrix = euclidean.astype('float32')\n",
        "\n",
        "distance_matrix = torch.from_numpy(distance_matrix).to(device)"
      ]
    },
    {
      "cell_type": "code",
      "execution_count": 11,
      "metadata": {
        "colab": {
          "base_uri": "https://localhost:8080/"
        },
        "id": "GJgGwN2WAwZi",
        "outputId": "d32f55ae-4e04-4151-95e3-99198f012d4e"
      },
      "outputs": [
        {
          "output_type": "stream",
          "name": "stdout",
          "text": [
            "Initial correlation between distance and weight matrices: -0.00720281738029272\n"
          ]
        }
      ],
      "source": [
        "#Diagnostic tests -----\n",
        "\n",
        "from scipy.stats import pearsonr\n",
        "\n",
        "#Test for spatial regularization\n",
        "def test_euclidean(x, y):\n",
        "    x = torch.abs(x)\n",
        "    x_array = x.cpu().detach().numpy()\n",
        "    flat_x_array = x_array.flatten()\n",
        "    y = torch.abs(y)\n",
        "    y_array = y.cpu().detach().numpy()\n",
        "    flat_y_array = y_array.flatten()\n",
        "    correlation = pearsonr(flat_x_array, flat_y_array)[0]\n",
        "    return correlation\n",
        "\n",
        "print(f\"Initial correlation between distance and weight matrices: {test_euclidean(distance_matrix, net.lif1.recurrent.weight)}\")"
      ]
    },
    {
      "cell_type": "code",
      "execution_count": 12,
      "metadata": {
        "colab": {
          "base_uri": "https://localhost:8080/"
        },
        "id": "jPimpey0AwZi",
        "outputId": "4ce764db-63ac-40af-c587-6b01cf8aad71"
      },
      "outputs": [
        {
          "output_type": "stream",
          "name": "stdout",
          "text": [
            "Epoch 0 \n",
            "Training Loss: 554.58\n",
            "Training accuracy: 28.12%\n",
            "Total feedforward weight: 15258.00390625\n",
            "Total recurrent weight: 359.47808837890625\n",
            "Correlation of distance and weight matrices: -0.02119602784637397\n",
            "\n",
            "Epoch 1 \n",
            "Training Loss: 370.53\n",
            "Training accuracy: 35.94%\n",
            "Total feedforward weight: 17755.265625\n",
            "Total recurrent weight: 240.27700805664062\n",
            "Correlation of distance and weight matrices: -0.03263684790581105\n",
            "\n",
            "Epoch 2 \n",
            "Training Loss: 222.77\n",
            "Training accuracy: 57.81%\n",
            "Total feedforward weight: 18697.17578125\n",
            "Total recurrent weight: 144.8975830078125\n",
            "Correlation of distance and weight matrices: -0.054525784313297916\n",
            "\n",
            "Epoch 3 \n",
            "Training Loss: 112.88\n",
            "Training accuracy: 45.31%\n",
            "Total feedforward weight: 19232.6328125\n",
            "Total recurrent weight: 74.74337768554688\n",
            "Correlation of distance and weight matrices: -0.09688011424686517\n",
            "\n",
            "Epoch 4 \n",
            "Training Loss: 41.92\n",
            "Training accuracy: 62.50%\n",
            "Total feedforward weight: 19738.794921875\n",
            "Total recurrent weight: 29.883766174316406\n",
            "Correlation of distance and weight matrices: -0.17054418418522668\n",
            "\n",
            "Epoch 5 \n",
            "Training Loss: 10.38\n",
            "Training accuracy: 60.94%\n",
            "Total feedforward weight: 20204.279296875\n",
            "Total recurrent weight: 10.77086067199707\n",
            "Correlation of distance and weight matrices: -0.22329525352500668\n",
            "\n",
            "Epoch 6 \n",
            "Training Loss: 4.87\n",
            "Training accuracy: 62.50%\n",
            "Total feedforward weight: 20650.171875\n",
            "Total recurrent weight: 7.456998348236084\n",
            "Correlation of distance and weight matrices: -0.22371033275191654\n",
            "\n",
            "Epoch 7 \n",
            "Training Loss: 3.08\n",
            "Training accuracy: 71.88%\n",
            "Total feedforward weight: 21023.794921875\n",
            "Total recurrent weight: 6.410656929016113\n",
            "Correlation of distance and weight matrices: -0.22310831342462964\n",
            "\n",
            "Epoch 8 \n",
            "Training Loss: 2.52\n",
            "Training accuracy: 60.94%\n",
            "Total feedforward weight: 21387.146484375\n",
            "Total recurrent weight: 6.056873321533203\n",
            "Correlation of distance and weight matrices: -0.22304899226070482\n",
            "\n",
            "Epoch 9 \n",
            "Training Loss: 2.31\n",
            "Training accuracy: 60.94%\n",
            "Total feedforward weight: 21823.919921875\n",
            "Total recurrent weight: 5.96031379699707\n",
            "Correlation of distance and weight matrices: -0.2225734417580114\n",
            "\n",
            "Epoch 10 \n",
            "Training Loss: 2.23\n",
            "Training accuracy: 67.19%\n",
            "Total feedforward weight: 22212.279296875\n",
            "Total recurrent weight: 5.970229625701904\n",
            "Correlation of distance and weight matrices: -0.22236472472312474\n",
            "\n",
            "Epoch 11 \n",
            "Training Loss: 2.28\n",
            "Training accuracy: 60.94%\n",
            "Total feedforward weight: 22601.44140625\n",
            "Total recurrent weight: 5.991237640380859\n",
            "Correlation of distance and weight matrices: -0.22207512603487367\n",
            "\n",
            "Epoch 12 \n",
            "Training Loss: 2.25\n",
            "Training accuracy: 68.75%\n",
            "Total feedforward weight: 22950.55859375\n",
            "Total recurrent weight: 5.998855113983154\n",
            "Correlation of distance and weight matrices: -0.22199218832047768\n",
            "\n",
            "Epoch 13 \n",
            "Training Loss: 2.24\n",
            "Training accuracy: 67.19%\n",
            "Total feedforward weight: 23288.9609375\n",
            "Total recurrent weight: 6.010558128356934\n",
            "Correlation of distance and weight matrices: -0.22144704654054648\n",
            "\n",
            "Epoch 14 \n",
            "Training Loss: 2.23\n",
            "Training accuracy: 60.94%\n",
            "Total feedforward weight: 23670.49609375\n",
            "Total recurrent weight: 6.00396728515625\n",
            "Correlation of distance and weight matrices: -0.2211561228446888\n",
            "\n",
            "Epoch 15 \n",
            "Training Loss: 2.26\n",
            "Training accuracy: 54.69%\n",
            "Total feedforward weight: 24019.390625\n",
            "Total recurrent weight: 6.028900146484375\n",
            "Correlation of distance and weight matrices: -0.22047887708397118\n",
            "\n",
            "Epoch 16 \n",
            "Training Loss: 2.25\n",
            "Training accuracy: 64.06%\n",
            "Total feedforward weight: 24502.39453125\n",
            "Total recurrent weight: 6.021635055541992\n",
            "Correlation of distance and weight matrices: -0.22001328671967801\n",
            "\n",
            "Epoch 17 \n",
            "Training Loss: 2.21\n",
            "Training accuracy: 67.19%\n",
            "Total feedforward weight: 24951.328125\n",
            "Total recurrent weight: 6.043567657470703\n",
            "Correlation of distance and weight matrices: -0.219982454327474\n",
            "\n",
            "Epoch 18 \n",
            "Training Loss: 2.23\n",
            "Training accuracy: 73.44%\n",
            "Total feedforward weight: 25331.7421875\n",
            "Total recurrent weight: 6.0640764236450195\n",
            "Correlation of distance and weight matrices: -0.2200780200936301\n",
            "\n",
            "Epoch 19 \n",
            "Training Loss: 2.20\n",
            "Training accuracy: 71.88%\n",
            "Total feedforward weight: 25742.77734375\n",
            "Total recurrent weight: 6.068226337432861\n",
            "Correlation of distance and weight matrices: -0.2186196299215135\n",
            "\n",
            "Epoch 20 \n",
            "Training Loss: 2.23\n",
            "Training accuracy: 67.19%\n",
            "Total feedforward weight: 26084.5\n",
            "Total recurrent weight: 6.054841995239258\n",
            "Correlation of distance and weight matrices: -0.21763629439280208\n",
            "\n",
            "Epoch 21 \n",
            "Training Loss: 2.20\n",
            "Training accuracy: 73.44%\n",
            "Total feedforward weight: 26355.453125\n",
            "Total recurrent weight: 6.073746204376221\n",
            "Correlation of distance and weight matrices: -0.2176635437045231\n",
            "\n",
            "Epoch 22 \n",
            "Training Loss: 2.23\n",
            "Training accuracy: 70.31%\n",
            "Total feedforward weight: 26685.15625\n",
            "Total recurrent weight: 6.076560974121094\n",
            "Correlation of distance and weight matrices: -0.21732290567846807\n",
            "\n",
            "Epoch 23 \n",
            "Training Loss: 2.26\n",
            "Training accuracy: 59.38%\n",
            "Total feedforward weight: 27063.30859375\n",
            "Total recurrent weight: 6.0460052490234375\n",
            "Correlation of distance and weight matrices: -0.21678245884581\n",
            "\n",
            "Epoch 24 \n",
            "Training Loss: 2.18\n",
            "Training accuracy: 71.88%\n",
            "Total feedforward weight: 27451.11328125\n",
            "Total recurrent weight: 6.088930606842041\n",
            "Correlation of distance and weight matrices: -0.21628286863555513\n",
            "\n",
            "Epoch 25 \n",
            "Training Loss: 2.28\n",
            "Training accuracy: 60.94%\n",
            "Total feedforward weight: 27871.337890625\n",
            "Total recurrent weight: 6.098750114440918\n",
            "Correlation of distance and weight matrices: -0.2155921143704131\n",
            "\n",
            "Epoch 26 \n",
            "Training Loss: 2.22\n",
            "Training accuracy: 64.06%\n",
            "Total feedforward weight: 28191.12109375\n",
            "Total recurrent weight: 6.105410099029541\n",
            "Correlation of distance and weight matrices: -0.21518936002903022\n",
            "\n",
            "Epoch 27 \n",
            "Training Loss: 2.23\n",
            "Training accuracy: 73.44%\n",
            "Total feedforward weight: 28481.6015625\n",
            "Total recurrent weight: 6.092823028564453\n",
            "Correlation of distance and weight matrices: -0.21519070171522958\n",
            "\n",
            "Epoch 28 \n",
            "Training Loss: 2.21\n",
            "Training accuracy: 67.19%\n",
            "Total feedforward weight: 28750.5703125\n",
            "Total recurrent weight: 6.095846176147461\n",
            "Correlation of distance and weight matrices: -0.21453784805091633\n",
            "\n",
            "Epoch 29 \n",
            "Training Loss: 2.21\n",
            "Training accuracy: 67.19%\n",
            "Total feedforward weight: 29048.572265625\n",
            "Total recurrent weight: 6.1129584312438965\n",
            "Correlation of distance and weight matrices: -0.21429436158015303\n",
            "\n",
            "Epoch 30 \n",
            "Training Loss: 2.20\n",
            "Training accuracy: 71.88%\n",
            "Total feedforward weight: 29303.86328125\n",
            "Total recurrent weight: 6.112924575805664\n",
            "Correlation of distance and weight matrices: -0.21385047508183014\n",
            "\n",
            "Epoch 31 \n",
            "Training Loss: 2.24\n",
            "Training accuracy: 60.94%\n",
            "Total feedforward weight: 29527.97265625\n",
            "Total recurrent weight: 6.135313034057617\n",
            "Correlation of distance and weight matrices: -0.21352868999273886\n",
            "\n",
            "Epoch 32 \n",
            "Training Loss: 2.23\n",
            "Training accuracy: 68.75%\n",
            "Total feedforward weight: 29810.9921875\n",
            "Total recurrent weight: 6.151025772094727\n",
            "Correlation of distance and weight matrices: -0.2126313012869715\n",
            "\n",
            "Epoch 33 \n",
            "Training Loss: 2.15\n",
            "Training accuracy: 76.56%\n",
            "Total feedforward weight: 30174.70703125\n",
            "Total recurrent weight: 6.150623321533203\n",
            "Correlation of distance and weight matrices: -0.2123011874962717\n",
            "\n",
            "Epoch 34 \n",
            "Training Loss: 2.20\n",
            "Training accuracy: 70.31%\n",
            "Total feedforward weight: 30543.81640625\n",
            "Total recurrent weight: 6.179189682006836\n",
            "Correlation of distance and weight matrices: -0.21219255001363385\n",
            "\n",
            "Epoch 35 \n",
            "Training Loss: 2.16\n",
            "Training accuracy: 73.44%\n",
            "Total feedforward weight: 30876.080078125\n",
            "Total recurrent weight: 6.167913436889648\n",
            "Correlation of distance and weight matrices: -0.21175383852775517\n",
            "\n",
            "Epoch 36 \n",
            "Training Loss: 2.23\n",
            "Training accuracy: 73.44%\n",
            "Total feedforward weight: 31179.85546875\n",
            "Total recurrent weight: 6.196818828582764\n",
            "Correlation of distance and weight matrices: -0.21158648995408794\n",
            "\n",
            "Epoch 37 \n",
            "Training Loss: 2.21\n",
            "Training accuracy: 71.88%\n",
            "Total feedforward weight: 31524.068359375\n",
            "Total recurrent weight: 6.190153121948242\n",
            "Correlation of distance and weight matrices: -0.21104092919503664\n",
            "\n",
            "Epoch 38 \n",
            "Training Loss: 2.20\n",
            "Training accuracy: 71.88%\n",
            "Total feedforward weight: 31889.724609375\n",
            "Total recurrent weight: 6.205345153808594\n",
            "Correlation of distance and weight matrices: -0.21087639574557623\n",
            "\n",
            "Epoch 39 \n",
            "Training Loss: 2.20\n",
            "Training accuracy: 64.06%\n",
            "Total feedforward weight: 32221.15625\n",
            "Total recurrent weight: 6.231849193572998\n",
            "Correlation of distance and weight matrices: -0.21065644776391113\n",
            "\n",
            "Epoch 40 \n",
            "Training Loss: 2.24\n",
            "Training accuracy: 60.94%\n",
            "Total feedforward weight: 32575.8125\n",
            "Total recurrent weight: 6.294861793518066\n",
            "Correlation of distance and weight matrices: -0.21031614132831492\n",
            "\n",
            "Epoch 41 \n",
            "Training Loss: 2.17\n",
            "Training accuracy: 68.75%\n",
            "Total feedforward weight: 32881.62109375\n",
            "Total recurrent weight: 6.302409648895264\n",
            "Correlation of distance and weight matrices: -0.21070750801644167\n",
            "\n",
            "Epoch 42 \n",
            "Training Loss: 2.19\n",
            "Training accuracy: 68.75%\n",
            "Total feedforward weight: 33137.109375\n",
            "Total recurrent weight: 6.306516647338867\n",
            "Correlation of distance and weight matrices: -0.21126906480196458\n",
            "\n",
            "Epoch 43 \n",
            "Training Loss: 2.23\n",
            "Training accuracy: 64.06%\n",
            "Total feedforward weight: 33450.12890625\n",
            "Total recurrent weight: 6.330164909362793\n",
            "Correlation of distance and weight matrices: -0.21190081264308053\n",
            "\n",
            "Epoch 44 \n",
            "Training Loss: 2.18\n",
            "Training accuracy: 73.44%\n",
            "Total feedforward weight: 33762.0625\n",
            "Total recurrent weight: 6.319322109222412\n",
            "Correlation of distance and weight matrices: -0.21164772281320465\n",
            "\n",
            "Epoch 45 \n",
            "Training Loss: 2.18\n",
            "Training accuracy: 64.06%\n",
            "Total feedforward weight: 34174.79296875\n",
            "Total recurrent weight: 6.342228889465332\n",
            "Correlation of distance and weight matrices: -0.2114607886465436\n",
            "\n",
            "Epoch 46 \n",
            "Training Loss: 2.16\n",
            "Training accuracy: 81.25%\n",
            "Total feedforward weight: 34473.30859375\n",
            "Total recurrent weight: 6.357731342315674\n",
            "Correlation of distance and weight matrices: -0.21144362665981575\n",
            "\n",
            "Epoch 47 \n",
            "Training Loss: 2.19\n",
            "Training accuracy: 85.94%\n",
            "Total feedforward weight: 34786.0546875\n",
            "Total recurrent weight: 6.375148773193359\n",
            "Correlation of distance and weight matrices: -0.21196424307934503\n",
            "\n",
            "Epoch 48 \n",
            "Training Loss: 2.20\n",
            "Training accuracy: 64.06%\n",
            "Total feedforward weight: 35070.8828125\n",
            "Total recurrent weight: 6.377671718597412\n",
            "Correlation of distance and weight matrices: -0.21254679601254\n",
            "\n",
            "Epoch 49 \n",
            "Training Loss: 2.20\n",
            "Training accuracy: 62.50%\n",
            "Total feedforward weight: 35333.51171875\n",
            "Total recurrent weight: 6.415996551513672\n",
            "Correlation of distance and weight matrices: -0.21239547435684678\n",
            "\n"
          ]
        }
      ],
      "source": [
        "#Training paradigm -----\n",
        "\n",
        "#Training parameters\n",
        "num_epochs = 50\n",
        "\n",
        "#Regularization parameters\n",
        "regu_strength = 0.5\n",
        "\n",
        "#Initialize loss, accuracy, mean weights\n",
        "loss_hist = []\n",
        "acc_hist = []\n",
        "feed_tot_hist = []\n",
        "rec_tot_hist = []\n",
        "corr_hist = []\n",
        "\n",
        "#Pre-training extractions\n",
        "acc_hist.append(0)\n",
        "feed_tot_hist.append(torch.sum(torch.abs(net.fc1.weight.data)))\n",
        "rec_tot_hist.append(torch.sum(torch.abs(net.lif1.recurrent.weight.data)))\n",
        "corr_hist.append(test_euclidean(distance_matrix, net.lif1.recurrent.weight))\n",
        "\n",
        "#Training loop\n",
        "for epoch in range(num_epochs):\n",
        "    for i, (data, targets) in enumerate(iter(trainloader)):\n",
        "\n",
        "        #Load on CUDA (if available)\n",
        "        data = data.to(device)\n",
        "        targets = targets.to(device)\n",
        "\n",
        "        #Set model to training mode\n",
        "        net.train()\n",
        "        outputs, _ = net(data)\n",
        "\n",
        "        #Spatial + L1 regularization\n",
        "        abs_weight_matrix = torch.abs(net.lif1.recurrent.weight).to(device)\n",
        "        spatial_L1_loss = regu_strength * torch.sum(torch.mul(abs_weight_matrix, distance_matrix))\n",
        "\n",
        "        #Calculate loss\n",
        "        loss_val = loss_fn(outputs, targets) + spatial_L1_loss\n",
        "\n",
        "        #Gradient calculation and weight updates\n",
        "        optimizer.zero_grad()\n",
        "        loss_val.backward()\n",
        "        optimizer.step()\n",
        "        clip_tc(net.lif1.beta.data)\n",
        "\n",
        "        #Store loss history\n",
        "        loss_hist.append(loss_val.item())\n",
        "\n",
        "    #Evaluations (every epoch)\n",
        "    net.eval()\n",
        "\n",
        "    #Report training loss\n",
        "    print(f\"Epoch {epoch} \\nTraining Loss: {loss_val.item():.2f}\")\n",
        "\n",
        "    #Training accuracy\n",
        "    acc = SF.accuracy_rate(outputs, targets) #Outputs: [num_steps, batch_size, num_outputs]. Targets: [batch_size]\n",
        "    acc_hist.append(acc)\n",
        "    print(f\"Training accuracy: {acc * 100:.2f}%\")\n",
        "\n",
        "    #Sum of feedforward weights\n",
        "    feed_tot = torch.sum(torch.abs(net.fc1.weight.data))\n",
        "    feed_tot_hist.append(feed_tot)\n",
        "    print(f\"Total feedforward weight: {feed_tot}\")\n",
        "\n",
        "    #Sum of recurrent weights\n",
        "    rec_tot = torch.sum(torch.abs(net.lif1.recurrent.weight.data))\n",
        "    rec_tot_hist.append(rec_tot)\n",
        "    print(f\"Total recurrent weight: {rec_tot}\")\n",
        "\n",
        "    #Correlation of distance and weight matrices\n",
        "    corr_matrices = test_euclidean(distance_matrix, net.lif1.recurrent.weight)\n",
        "    corr_hist.append(corr_matrices)\n",
        "    print(f\"Correlation of distance and weight matrices: {corr_matrices}\\n\")"
      ]
    },
    {
      "cell_type": "code",
      "source": [
        "#Diagnostic: accuracy function -----\n",
        "\n",
        "# x, y = outputs.sum(dim=0).max(1)\n",
        "# print(y)\n",
        "# print(targets)\n",
        "# accuracy = np.mean((targets == y).detach().cpu().numpy())\n",
        "# print(accuracy)"
      ],
      "metadata": {
        "id": "7Fl3DAudLtnN"
      },
      "execution_count": 13,
      "outputs": []
    },
    {
      "cell_type": "code",
      "source": [
        "#Test set accuracy -----\n",
        "\n",
        "total = 0\n",
        "correct = 0\n",
        "dataloader = testloader\n",
        "\n",
        "with torch.no_grad():\n",
        "  net.eval()\n",
        "  for data, targets in dataloader:\n",
        "    data = data.to(device)\n",
        "    targets = targets.to(device)\n",
        "\n",
        "    #Forward pass\n",
        "    test_spk, _ = net(data)\n",
        "\n",
        "    #Calculate total accuracy\n",
        "    _, predicted = test_spk.sum(dim=0).max(1)\n",
        "    total += targets.size(0)\n",
        "    correct += (predicted == targets).sum().item()\n",
        "\n",
        "print(f\"Total correctly classified test set images: {correct}/{total}\")\n",
        "print(f\"Test Set Accuracy: {100 * correct / total:.2f}%\")"
      ],
      "metadata": {
        "colab": {
          "base_uri": "https://localhost:8080/"
        },
        "id": "e0_mZQsDNVKs",
        "outputId": "db2bce1a-a17e-41a1-bfd2-59322e769597"
      },
      "execution_count": 14,
      "outputs": [
        {
          "output_type": "stream",
          "name": "stdout",
          "text": [
            "Total correctly classified test set images: 165/256\n",
            "Test Set Accuracy: 64.45%\n"
          ]
        }
      ]
    },
    {
      "cell_type": "code",
      "execution_count": 15,
      "metadata": {
        "id": "kY6Dc5spAwZj",
        "outputId": "58a93344-67a8-4e99-d9b1-b3e7ee3bfa53",
        "colab": {
          "base_uri": "https://localhost:8080/",
          "height": 1000
        }
      },
      "outputs": [
        {
          "output_type": "stream",
          "name": "stdout",
          "text": [
            "Layer: fc1.weight | Size: torch.Size([100, 32768]) | Values : Parameter containing:\n",
            "tensor([[ 0.0107,  0.0013, -0.0021,  ..., -0.0073, -0.0013,  0.0093],\n",
            "        [ 0.0108,  0.0097,  0.0047,  ..., -0.0024, -0.0057,  0.0036],\n",
            "        [ 0.0191,  0.0164, -0.0004,  ..., -0.0005,  0.0033,  0.0017],\n",
            "        ...,\n",
            "        [-0.0023, -0.0101, -0.0006,  ..., -0.0024,  0.0011,  0.0028],\n",
            "        [ 0.0025,  0.0076, -0.0035,  ..., -0.0044, -0.0014, -0.0006],\n",
            "        [ 0.0015, -0.0112,  0.0136,  ..., -0.0019, -0.0126, -0.0305]],\n",
            "       device='cuda:0', requires_grad=True) \n",
            "\n",
            "Layer: fc1.bias | Size: torch.Size([100]) | Values : Parameter containing:\n",
            "tensor([-0.0016,  0.0320, -0.0034, -0.0370, -0.0047, -0.0497,  0.0371,  0.0558,\n",
            "        -0.0117,  0.0305, -0.0077, -0.0102, -0.0033, -0.0076, -0.0216,  0.0516,\n",
            "         0.0171, -0.0081,  0.0476,  0.0747,  0.0612, -0.0141,  0.0013,  0.0115,\n",
            "        -0.0057, -0.0100,  0.0053, -0.0199,  0.0148,  0.0725, -0.0133,  0.0122,\n",
            "        -0.0489, -0.0026, -0.0267,  0.0419,  0.0473,  0.0016, -0.0120, -0.0167,\n",
            "         0.0057,  0.0198, -0.0810,  0.0480,  0.0550,  0.0361,  0.0068, -0.0257,\n",
            "        -0.0369,  0.0448,  0.0705, -0.0126, -0.0073,  0.0558, -0.0030, -0.0165,\n",
            "        -0.0274, -0.0107,  0.0263, -0.0048, -0.0269,  0.0015, -0.0077,  0.0610,\n",
            "        -0.0002,  0.0424,  0.0165,  0.0512,  0.0447, -0.0266, -0.0281,  0.0005,\n",
            "        -0.0092,  0.0207,  0.0502,  0.0122,  0.0731, -0.0076,  0.0293, -0.0300,\n",
            "        -0.0090, -0.0143,  0.0340,  0.0117, -0.0441,  0.0164,  0.0012, -0.0035,\n",
            "        -0.0172, -0.0025, -0.0217,  0.0875, -0.0158,  0.0012, -0.0279,  0.0040,\n",
            "         0.0150, -0.0082,  0.0452,  0.0692], device='cuda:0',\n",
            "       requires_grad=True) \n",
            "\n",
            "Layer: lif1.beta | Size: torch.Size([100]) | Values : Parameter containing:\n",
            "tensor([0.9637, 0.9818, 0.9059, 0.8132, 0.9605, 0.9950, 0.9499, 0.9296, 0.9372,\n",
            "        0.9948, 0.9456, 0.9947, 0.9684, 0.9625, 0.9318, 0.9707, 0.9382, 0.9362,\n",
            "        0.9783, 0.9591, 0.9536, 0.9344, 0.9827, 0.9849, 0.9907, 0.8758, 0.9397,\n",
            "        0.9508, 0.9565, 0.9872, 0.9236, 0.9733, 0.9899, 0.9296, 0.9181, 0.9682,\n",
            "        0.9756, 0.9863, 0.9774, 0.9686, 0.9706, 0.9747, 0.9395, 0.9950, 0.9950,\n",
            "        0.9764, 0.9599, 0.8615, 0.9746, 0.9815, 0.9526, 0.9444, 0.9619, 0.9785,\n",
            "        0.9691, 0.9615, 0.9381, 0.9660, 0.9940, 0.9926, 0.9655, 0.9029, 0.9726,\n",
            "        0.8943, 0.9739, 0.9290, 0.9836, 0.9950, 0.9919, 0.9750, 0.9925, 0.9669,\n",
            "        0.9549, 0.9189, 0.9937, 0.9193, 0.9916, 0.9511, 0.9888, 0.9686, 0.9842,\n",
            "        0.9533, 0.9948, 0.9494, 0.9522, 0.9635, 0.9434, 0.9864, 0.9046, 0.9695,\n",
            "        0.9712, 0.9280, 0.9495, 0.9947, 0.9912, 0.9579, 0.9080, 0.9581, 0.9876,\n",
            "        0.9825], device='cuda:0', dtype=torch.float64, requires_grad=True) \n",
            "\n",
            "Layer: lif1.recurrent.weight | Size: torch.Size([100, 100]) | Values : Parameter containing:\n",
            "tensor([[-2.0467e-02,  7.9445e-05,  3.5024e-05,  ..., -1.9510e-04,\n",
            "         -6.1526e-05,  5.2376e-05],\n",
            "        [-1.9862e-04, -3.8748e-02,  6.4955e-05,  ..., -6.7035e-05,\n",
            "          1.7237e-04, -2.6443e-05],\n",
            "        [-1.0123e-04, -1.1900e-04,  2.0439e-02,  ...,  2.1070e-04,\n",
            "         -1.4559e-04, -5.8871e-05],\n",
            "        ...,\n",
            "        [-1.5016e-04, -1.2103e-04,  1.7175e-04,  ...,  8.1970e-02,\n",
            "          1.6334e-04,  1.4230e-05],\n",
            "        [ 4.9080e-05, -4.6029e-04, -1.5258e-04,  ...,  4.3001e-05,\n",
            "         -2.5369e-02,  2.2597e-04],\n",
            "        [ 5.5516e-05, -7.1148e-05, -1.1116e-05,  ..., -4.2473e-04,\n",
            "          1.1494e-04,  2.2943e-03]], device='cuda:0', requires_grad=True) \n",
            "\n",
            "Layer: lif1.recurrent.bias | Size: torch.Size([100]) | Values : Parameter containing:\n",
            "tensor([-0.0597,  0.0587, -0.0523,  0.0027, -0.0935, -0.1016,  0.0367,  0.1351,\n",
            "        -0.0492,  0.0926, -0.0892, -0.0706, -0.0110, -0.1030,  0.0247,  0.0802,\n",
            "         0.0019,  0.0824,  0.0230,  0.1278,  0.0158,  0.0037,  0.0860,  0.0656,\n",
            "         0.0221, -0.0801,  0.0013, -0.0153,  0.0476,  0.1598,  0.0237,  0.0972,\n",
            "        -0.1158, -0.0184, -0.1166,  0.0894, -0.0431,  0.0006,  0.0258, -0.0958,\n",
            "        -0.0464,  0.0300,  0.0082, -0.0180,  0.0973,  0.0475, -0.0308, -0.0006,\n",
            "        -0.0890,  0.0079,  0.0071,  0.0024, -0.0880, -0.0489, -0.1058,  0.0462,\n",
            "        -0.0254,  0.0812,  0.0414,  0.0844, -0.1211, -0.0362,  0.0008,  0.1028,\n",
            "        -0.0416,  0.1068,  0.0804, -0.0040,  0.0728, -0.0945, -0.0922, -0.0211,\n",
            "        -0.0991, -0.0355,  0.1337, -0.0128, -0.0278,  0.0886,  0.0634, -0.0859,\n",
            "         0.0465,  0.0112,  0.1129, -0.0233, -0.1066,  0.0142, -0.0943,  0.0288,\n",
            "        -0.0129, -0.0803, -0.1144,  0.1564, -0.0193,  0.0098,  0.0380,  0.0928,\n",
            "        -0.0651, -0.0266,  0.0056,  0.0244], device='cuda:0',\n",
            "       requires_grad=True) \n",
            "\n",
            "Layer: fc2.weight | Size: torch.Size([11, 100]) | Values : Parameter containing:\n",
            "tensor([[ 0.1076, -0.0659, -0.0168,  ...,  0.0032,  0.0683,  0.0675],\n",
            "        [-0.0177,  0.0348,  0.0326,  ..., -0.0392,  0.0015,  0.0064],\n",
            "        [ 0.0344,  0.0905,  0.0413,  ..., -0.0277,  0.0383, -0.0012],\n",
            "        ...,\n",
            "        [-0.0319, -0.0200, -0.0070,  ...,  0.0797, -0.0594,  0.0358],\n",
            "        [-0.1099, -0.0160,  0.0032,  ..., -0.0446,  0.0351, -0.0340],\n",
            "        [-0.0769,  0.0241, -0.0123,  ..., -0.0520,  0.0441,  0.0910]],\n",
            "       device='cuda:0', requires_grad=True) \n",
            "\n",
            "Layer: fc2.bias | Size: torch.Size([11]) | Values : Parameter containing:\n",
            "tensor([ 0.0117,  0.0097, -0.0294,  0.0085,  0.0142,  0.0974,  0.0202, -0.0956,\n",
            "        -0.0213,  0.0729, -0.0166], device='cuda:0', requires_grad=True) \n",
            "\n"
          ]
        },
        {
          "output_type": "execute_result",
          "data": {
            "text/plain": [
              "Text(0.5, 0, 'ms')"
            ]
          },
          "metadata": {},
          "execution_count": 15
        },
        {
          "output_type": "display_data",
          "data": {
            "text/plain": [
              "<Figure size 432x288 with 1 Axes>"
            ],
            "image/png": "[encoded data removed]"
          },
          "metadata": {
            "needs_background": "light"
          }
        }
      ],
      "source": [
        "#Model visualizations (post-training) -----\n",
        "\n",
        "#All layers and associated parameters\n",
        "for name, param in net.named_parameters():\n",
        "    print(f\"Layer: {name} | Size: {param.size()} | Values : {param} \\n\")\n",
        "\n",
        "#Membrane time constant distribution\n",
        "#Define plot + parameters\n",
        "tau = (-time_step / np.log(net.lif1.beta.data.cpu())) / 1e-3\n",
        "fig, ax = plt.subplots()\n",
        "tc_distribution = sns.histplot(data = tau, kde = False, ax = ax, binwidth = 3)\n",
        "\n",
        "#Visual modifications\n",
        "ax.axes.get_yaxis().set_visible(False)\n",
        "plt.xlabel('ms')"
      ]
    },
    {
      "cell_type": "code",
      "source": [
        "feed_tot_hist = torch.FloatTensor(feed_tot_hist)\n",
        "rec_tot_hist = torch.FloatTensor(rec_tot_hist)\n",
        "corr_hist = torch.FloatTensor(corr_hist)"
      ],
      "metadata": {
        "id": "cGg1uJuuwnpE"
      },
      "execution_count": 16,
      "outputs": []
    },
    {
      "cell_type": "code",
      "execution_count": 17,
      "metadata": {
        "id": "MX34FWjSAwZj",
        "outputId": "814d21d9-9470-4591-9bf8-273511d17536",
        "colab": {
          "base_uri": "https://localhost:8080/",
          "height": 1000
        }
      },
      "outputs": [
        {
          "output_type": "display_data",
          "data": {
            "text/plain": [
              "<Figure size 495x300 with 1 Axes>"
            ],
            "image/png": "[encoded data removed]"
          },
          "metadata": {
            "needs_background": "light"
          }
        },
        {
          "output_type": "display_data",
          "data": {
            "text/plain": [
              "<Figure size 495x300 with 1 Axes>"
            ],
            "image/png": "[encoded data removed]"
          },
          "metadata": {
            "needs_background": "light"
          }
        },
        {
          "output_type": "display_data",
          "data": {
            "text/plain": [
              "<Figure size 495x300 with 1 Axes>"
            ],
            "image/png": "[encoded data removed]"
          },
          "metadata": {
            "needs_background": "light"
          }
        },
        {
          "output_type": "display_data",
          "data": {
            "text/plain": [
              "<Figure size 495x300 with 1 Axes>"
            ],
            "image/png": "[encoded data removed]"
          },
          "metadata": {
            "needs_background": "light"
          }
        },
        {
          "output_type": "display_data",
          "data": {
            "text/plain": [
              "<Figure size 495x300 with 1 Axes>"
            ],
            "image/png": "[encoded data removed]"
          },
          "metadata": {
            "needs_background": "light"
          }
        }
      ],
      "source": [
        "#Data visualizations -----\n",
        "\n",
        "#Loss\n",
        "plt.figure(figsize=(3.3,2),dpi=150)\n",
        "plt.plot(loss_hist)\n",
        "plt.xlabel('Training iterations')\n",
        "plt.ylabel('Training loss')\n",
        "plt.savefig('training_loss')\n",
        "\n",
        "#Accuracy/performance\n",
        "plt.figure(figsize=(3.3,2),dpi=150)\n",
        "plt.plot(acc_hist)\n",
        "plt.xlabel('Epoch')\n",
        "plt.ylabel('Training accuracy')\n",
        "plt.savefig('training_accuracy')\n",
        "\n",
        "#Total feedforward weight\n",
        "plt.figure(figsize=(3.3,2),dpi=150)\n",
        "plt.plot(feed_tot_hist)\n",
        "plt.xlabel('Epoch')\n",
        "plt.ylabel('Total feedforward weight')\n",
        "plt.savefig('total_feedforward_weight')\n",
        "\n",
        "#Total recurrent weight\n",
        "plt.figure(figsize=(3.3,2),dpi=150)\n",
        "plt.plot(rec_tot_hist.cpu())\n",
        "plt.xlabel('Epoch')\n",
        "plt.ylabel('Total recurrent weight')\n",
        "plt.savefig('total_recurrent_weight')\n",
        "\n",
        "#Correlation of distance/weight matrices\n",
        "plt.figure(figsize=(3.3,2),dpi=150)\n",
        "plt.plot(corr_hist.cpu())\n",
        "plt.xlabel('Epoch')\n",
        "plt.ylabel('Corr(distance, weight)')\n",
        "plt.savefig('correlation')"
      ]
    }
  ],
  "metadata": {
    "kernelspec": {
      "display_name": "spikingsernn-01",
      "language": "python",
      "name": "python3"
    },
    "language_info": {
      "codemirror_mode": {
        "name": "ipython",
        "version": 3
      },
      "file_extension": ".py",
      "mimetype": "text/x-python",
      "name": "python",
      "nbconvert_exporter": "python",
      "pygments_lexer": "ipython3",
      "version": "3.10.8"
    },
    "orig_nbformat": 4,
    "vscode": {
      "interpreter": {
        "hash": "bf4fc4f4f5edd90960871ab78eee9b06884170e3a238fe1d4a227e78e9010765"
      }
    },
    "colab": {
      "provenance": [],
      "include_colab_link": true
    },
    "accelerator": "GPU",
    "gpuClass": "standard"
  },
  "nbformat": 4,
  "nbformat_minor": 0
}