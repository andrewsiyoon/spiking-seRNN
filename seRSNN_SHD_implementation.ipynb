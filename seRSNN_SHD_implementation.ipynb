{
  "cells": [
    {
      "cell_type": "markdown",
      "metadata": {
        "id": "view-in-github",
        "colab_type": "text"
      },
      "source": [
        "<a href=\"https://colab.research.google.com/github/andrewsiyoon/spiking-seRNN/blob/main/seRSNN_SHD_implementation.ipynb\" target=\"_parent\"><img src=\"https://colab.research.google.com/assets/colab-badge.svg\" alt=\"Open In Colab\"/></a>"
      ]
    },
    {
      "cell_type": "markdown",
      "metadata": {
        "id": "J07rfrwQlSC0"
      },
      "source": [
        "#**seRSNN: How to spatially-embed a recurrent spiking neural network**\n",
        "In this notebook, we demonstrate how to spatially-embed a recurrent spiking neural network and train it on a classic neuromorphic classification task for spiking models. We hope to provide this framework, which applies biologically-inspired spatial and communicability constraints to RSNNs, for open-access use by researchers in the field."
      ]
    },
    {
      "cell_type": "code",
      "execution_count": 1,
      "metadata": {
        "colab": {
          "base_uri": "https://localhost:8080/"
        },
        "id": "Quq3SNfgkLxj",
        "outputId": "e78acd9b-73b1-46d4-fed7-e1115fa874d2"
      },
      "outputs": [
        {
          "output_type": "stream",
          "name": "stdout",
          "text": [
            "\u001b[2K     \u001b[90m━━━━━━━━━━━━━━━━━━━━━━━━━━━━━━━━━━━━━━━\u001b[0m \u001b[32m104.8/104.8 kB\u001b[0m \u001b[31m2.3 MB/s\u001b[0m eta \u001b[36m0:00:00\u001b[0m\n",
            "\u001b[2K     \u001b[90m━━━━━━━━━━━━━━━━━━━━━━━━━━━━━━━━━━━━━\u001b[0m \u001b[32m104.1/104.1 kB\u001b[0m \u001b[31m990.0 kB/s\u001b[0m eta \u001b[36m0:00:00\u001b[0m\n",
            "\u001b[2K     \u001b[90m━━━━━━━━━━━━━━━━━━━━━━━━━━━━━━━━━━━━━━━━\u001b[0m \u001b[32m50.4/50.4 kB\u001b[0m \u001b[31m1.5 MB/s\u001b[0m eta \u001b[36m0:00:00\u001b[0m\n",
            "\u001b[?25h  Preparing metadata (setup.py) ... \u001b[?25l\u001b[?25hdone\n",
            "\u001b[2K     \u001b[90m━━━━━━━━━━━━━━━━━━━━━━━━━━━━━━━━━━━━━━━\u001b[0m \u001b[32m112.7/112.7 kB\u001b[0m \u001b[31m4.4 MB/s\u001b[0m eta \u001b[36m0:00:00\u001b[0m\n",
            "\u001b[?25h  Building wheel for importRosbag (setup.py) ... \u001b[?25l\u001b[?25hdone\n",
            "\u001b[2K     \u001b[90m━━━━━━━━━━━━━━━━━━━━━━━━━━━━━━━━━━━━━━━━\u001b[0m \u001b[32m1.6/1.6 MB\u001b[0m \u001b[31m41.4 MB/s\u001b[0m eta \u001b[36m0:00:00\u001b[0m\n",
            "\u001b[2K     \u001b[90m━━━━━━━━━━━━━━━━━━━━━━━━━━━━━━━━━━━━━━━━\u001b[0m \u001b[32m95.7/95.7 kB\u001b[0m \u001b[31m7.0 MB/s\u001b[0m eta \u001b[36m0:00:00\u001b[0m\n",
            "\u001b[?25h  Preparing metadata (setup.py) ... \u001b[?25l\u001b[?25hdone\n",
            "  Building wheel for bctpy (setup.py) ... \u001b[?25l\u001b[?25hdone\n",
            "time: 5.73 s (started: 2023-04-11 13:27:54 +00:00)\n"
          ]
        }
      ],
      "source": [
        "#Install packages -----\n",
        "\n",
        "'''\n",
        "snnTorch is a package that provides gradient-based learning for spiking neural networks and integrates various spiking neuron models with the PyTorch framework.\n",
        "Tonic is a package designed specifically for downloading, extracting, and manipulating various neuromorphic datasets.\n",
        "'''\n",
        "\n",
        "!pip install -q 'snntorch == 0.6.1'\n",
        "!pip install -q 'tonic == 1.2.5'\n",
        "!pip install -q ipython-autotime\n",
        "%load_ext autotime\n",
        "!pip install -q bctpy"
      ]
    },
    {
      "cell_type": "code",
      "execution_count": 2,
      "metadata": {
        "colab": {
          "base_uri": "https://localhost:8080/"
        },
        "id": "6lrVrUp7kV-Y",
        "outputId": "3924febc-8d11-44f8-e3f3-e351b306e641"
      },
      "outputs": [
        {
          "output_type": "stream",
          "name": "stdout",
          "text": [
            "time: 9.83 s (started: 2023-04-11 13:28:00 +00:00)\n"
          ]
        }
      ],
      "source": [
        "#Import packages -----\n",
        "\n",
        "import torch, torch.nn as nn\n",
        "from torch.utils.data import DataLoader\n",
        "\n",
        "import snntorch as snn\n",
        "from snntorch import surrogate\n",
        "import snntorch.functional as SF\n",
        "\n",
        "import numpy as np\n",
        "\n",
        "import scipy\n",
        "from scipy.stats import pearsonr\n",
        "\n",
        "import tonic\n",
        "import tonic.transforms as transforms\n",
        "from tonic import DiskCachedDataset\n",
        "\n",
        "import random\n",
        "\n",
        "import matplotlib.pyplot as plt\n",
        "from matplotlib.gridspec import GridSpec\n",
        "\n",
        "import seaborn as sns\n",
        "import pandas as pd\n",
        "\n",
        "import bct"
      ]
    },
    {
      "cell_type": "code",
      "execution_count": 3,
      "metadata": {
        "colab": {
          "base_uri": "https://localhost:8080/"
        },
        "id": "YJkyDfodkXzl",
        "outputId": "65425eaa-833c-4671-b6dd-756d2379ca90"
      },
      "outputs": [
        {
          "output_type": "execute_result",
          "data": {
            "text/plain": [
              "<torch._C.Generator at 0x7f4861e14630>"
            ]
          },
          "metadata": {},
          "execution_count": 3
        },
        {
          "output_type": "stream",
          "name": "stdout",
          "text": [
            "time: 4.79 ms (started: 2023-04-11 13:28:09 +00:00)\n"
          ]
        }
      ],
      "source": [
        "#Set random seeds -----\n",
        "\n",
        "np.random.seed(180139)\n",
        "torch.manual_seed(347932)"
      ]
    },
    {
      "cell_type": "markdown",
      "metadata": {
        "id": "ZI34npkQkfDz"
      },
      "source": [
        "## Preparing the SHD dataset"
      ]
    },
    {
      "cell_type": "code",
      "execution_count": 4,
      "metadata": {
        "colab": {
          "base_uri": "https://localhost:8080/",
          "height": 170,
          "referenced_widgets": [
            "1b6e6b644af54bf8826725105c4446a3",
            "b8cbf0a952b04da28de89d816e355ac2",
            "7b6feff695d14b3bb2a99d66a43515b7",
            "9b167ededefa4e9c9d95e38aee3e54be",
            "bc4a1588c166401d86c3f83378916cbc",
            "1ff0563eb16a4948a9bf2fa137be2c83",
            "99b17336a4114fd69372111843cf3414",
            "b8b60c94f75b428f9df9c59a59a6ea23",
            "0fdf5c6fd0c7463caf6ebcdc7d109ab8",
            "f92d4daa73f74443b48f596561850b0c",
            "e43e4e2042b54525a8d7b589e42e15c1",
            "70c98dc8949a45738429bcebcecac8ee",
            "a23f1f30700a4e7b8831f62894376b2e",
            "d85fce4959ef466991ada71a4d7044a1",
            "a26890d2bfa4404ab86a638fc7f83eea",
            "b8feafcf0acf42d586c64c0bcce3c3e2",
            "deea595221a8427fa6d39ca8c5472193",
            "8fa6f56819fd4881889dc18a000d45a1",
            "b2b09b664a0f4b30b7555c2b8502dcfe",
            "a5dfd05d0d304361b8c6f26f792e6ec2",
            "d8461eab4e4e46d2bca88ab0666d0040",
            "33c88da959574636bd11629cb361f2b8"
          ]
        },
        "id": "n6tAWMfdkdKE",
        "outputId": "4b3fd3e2-81ff-4460-ff93-24a0b51edf50"
      },
      "outputs": [
        {
          "output_type": "stream",
          "name": "stdout",
          "text": [
            "Downloading https://zenkelab.org/datasets/shd_train.h5.zip to ./data/SHD/shd_train.h5.zip\n"
          ]
        },
        {
          "output_type": "display_data",
          "data": {
            "text/plain": [
              "  0%|          | 0/130863613 [00:00<?, ?it/s]"
            ],
            "application/vnd.jupyter.widget-view+json": {
              "version_major": 2,
              "version_minor": 0,
              "model_id": "1b6e6b644af54bf8826725105c4446a3"
            }
          },
          "metadata": {}
        },
        {
          "output_type": "stream",
          "name": "stdout",
          "text": [
            "Extracting ./data/SHD/shd_train.h5.zip to ./data/SHD\n",
            "Downloading https://zenkelab.org/datasets/shd_test.h5.zip to ./data/SHD/shd_test.h5.zip\n"
          ]
        },
        {
          "output_type": "display_data",
          "data": {
            "text/plain": [
              "  0%|          | 0/38141465 [00:00<?, ?it/s]"
            ],
            "application/vnd.jupyter.widget-view+json": {
              "version_major": 2,
              "version_minor": 0,
              "model_id": "70c98dc8949a45738429bcebcecac8ee"
            }
          },
          "metadata": {}
        },
        {
          "output_type": "stream",
          "name": "stdout",
          "text": [
            "Extracting ./data/SHD/shd_test.h5.zip to ./data/SHD\n",
            "time: 13.4 s (started: 2023-04-11 13:28:10 +00:00)\n"
          ]
        }
      ],
      "source": [
        "#Download and extract SHD dataset -----\n",
        "\n",
        "'''\n",
        "Parameters are adapted from the original SHD paper.\n",
        "'''\n",
        "\n",
        "#Define variables (batch size, sensor size)\n",
        "batch_size = 128\n",
        "device = torch.device(\"cuda\") if torch.cuda.is_available() else torch.device(\"cpu\")\n",
        "sensor_size = tonic.datasets.SHD.sensor_size\n",
        "\n",
        "#Define transformations\n",
        "frame_transform = transforms.Compose([transforms.ToFrame(sensor_size=sensor_size, n_time_bins = 200), transforms.DropEvent(p = 0.001)])\n",
        "\n",
        "#Define training and test sets\n",
        "SHD_train = tonic.datasets.SHD(save_to='./data', transform=frame_transform, train=True)\n",
        "SHD_test = tonic.datasets.SHD(save_to='./data', transform=frame_transform, train=False)\n",
        "\n",
        "#Create dataloaders\n",
        "trainloader = DataLoader(SHD_train, batch_size=batch_size, collate_fn=tonic.collation.PadTensors(batch_first=False), shuffle = True, drop_last = True)\n",
        "testloader = DataLoader(SHD_test, batch_size=batch_size, collate_fn=tonic.collation.PadTensors(batch_first=False), shuffle = True, drop_last = True)"
      ]
    },
    {
      "cell_type": "markdown",
      "metadata": {
        "id": "F-Q1FZ8XlBWc"
      },
      "source": [
        "##Initialize membrane time constants"
      ]
    },
    {
      "cell_type": "code",
      "execution_count": 5,
      "metadata": {
        "colab": {
          "base_uri": "https://localhost:8080/"
        },
        "id": "_LTMzwvDlBE_",
        "outputId": "5a059435-e26a-42e6-80b2-676c8cf221d7"
      },
      "outputs": [
        {
          "output_type": "stream",
          "name": "stdout",
          "text": [
            "time: 816 µs (started: 2023-04-11 13:28:23 +00:00)\n"
          ]
        }
      ],
      "source": [
        "#Initialize membrane time constant distribution -----\n",
        "\n",
        "'''\n",
        "This section defines two functions: a clipping function and an initialization function. Membrane parameters are taken from Perez-Nieves et al. in order to standardize network comparisons.\n",
        "'''\n",
        "\n",
        "#Membrane parameters\n",
        "tau_mem = 20e-3\n",
        "dist_shape = 3\n",
        "time_step = 0.5e-3\n",
        "\n",
        "#Clipping function\n",
        "def clip_tc(x):\n",
        "    clipped_tc = x.clamp_(0.7165, 0.995)\n",
        "    return clipped_tc\n",
        "\n",
        "#Initialize membrane time constant distribution\n",
        "def init_tc():\n",
        "    dist_gamma = np.random.gamma(dist_shape, tau_mem / 3, 100)\n",
        "    dist_beta = torch.from_numpy(np.exp(-time_step / dist_gamma))\n",
        "    clipped_beta = clip_tc(dist_beta)\n",
        "    return clipped_beta"
      ]
    },
    {
      "cell_type": "markdown",
      "metadata": {
        "id": "URxBDSQhlGnO"
      },
      "source": [
        "##Model architecture\n",
        "\n",
        "We define the recurrent spiking neural network in this section. The snnTorch package is used to instantiate unit neurons as recurrent LIF models (for the hidden layer) and LIF models (for the readout layer). PyTorch is used to create the linear connections between layers."
      ]
    },
    {
      "cell_type": "code",
      "execution_count": 6,
      "metadata": {
        "colab": {
          "base_uri": "https://localhost:8080/"
        },
        "id": "OLQ-7wG4lFyj",
        "outputId": "d9644d14-0cc1-466d-e88b-9dad7cf08ac9"
      },
      "outputs": [
        {
          "output_type": "stream",
          "name": "stdout",
          "text": [
            "time: 6.58 s (started: 2023-04-11 13:28:23 +00:00)\n"
          ]
        }
      ],
      "source": [
        "#Size parameters\n",
        "num_inputs = 700\n",
        "num_hidden = 100\n",
        "num_outputs = 20\n",
        "\n",
        "#Network parameters\n",
        "het_tau = init_tc().to(device)\n",
        "hom_tau = 0.9753\n",
        "\n",
        "#Optimization mechanism\n",
        "spike_grad = surrogate.fast_sigmoid(slope = 100)\n",
        "\n",
        "#Model definition\n",
        "class Net(nn.Module):\n",
        "    def __init__(self):\n",
        "        super().__init__()\n",
        "\n",
        "        #Initialize layers\n",
        "        self.fc1 = nn.Linear(num_inputs, num_hidden)\n",
        "        self.lif1 = snn.RLeaky(beta = het_tau, linear_features = num_hidden, learn_beta = True, spike_grad = spike_grad)\n",
        "        self.fc2 = nn.Linear(num_hidden, num_outputs)\n",
        "        self.lif2 = snn.Leaky(beta = hom_tau, spike_grad = spike_grad)\n",
        "\n",
        "    def forward(self, x):\n",
        "\n",
        "        #Initialize parameters\n",
        "        spk1, mem1 = self.lif1.init_rleaky()\n",
        "        mem2 = self.lif2.init_leaky()\n",
        "\n",
        "        #Record recurrent layer\n",
        "        spk1_rec = []\n",
        "        mem1_rec = []\n",
        "\n",
        "        #Record readout layer\n",
        "        spk2_rec = []\n",
        "        mem2_rec = []\n",
        "        \n",
        "        #Forward loop\n",
        "        for step in range(data.size(0)):\n",
        "            batched_data = data[step].view(batch_size, num_inputs)\n",
        "            cur1 = self.fc1(batched_data)\n",
        "            spk1, mem1 = self.lif1(cur1, spk1, mem1)\n",
        "            cur2 = self.fc2(spk1)\n",
        "            spk2, mem2 = self.lif2(cur2, mem2)\n",
        "\n",
        "            #Save recurrent and readout data\n",
        "            spk1_rec.append(spk1)\n",
        "            mem1_rec.append(mem1)\n",
        "\n",
        "            spk2_rec.append(spk2)\n",
        "            mem2_rec.append(mem2)\n",
        "\n",
        "        #Convert saved data to tensors\n",
        "        spk1_rec = torch.stack(spk1_rec)\n",
        "        mem1_rec = torch.stack(mem1_rec)\n",
        "\n",
        "        spk2_rec = torch.stack(spk2_rec)\n",
        "        mem2_rec = torch.stack(mem2_rec)\n",
        "        \n",
        "        return spk2_rec, mem2_rec, spk1_rec, mem1_rec\n",
        "\n",
        "net = Net().to(device)"
      ]
    },
    {
      "cell_type": "markdown",
      "metadata": {
        "id": "k5xYwCncmFI5"
      },
      "source": []
    },
    {
      "cell_type": "code",
      "execution_count": 7,
      "metadata": {
        "colab": {
          "base_uri": "https://localhost:8080/"
        },
        "id": "3Bzsd4T0mISG",
        "outputId": "22f86fde-f233-4c55-ec73-c6fa076ca790"
      },
      "outputs": [
        {
          "output_type": "stream",
          "name": "stdout",
          "text": [
            "time: 15.4 ms (started: 2023-04-11 13:28:30 +00:00)\n"
          ]
        }
      ],
      "source": [
        "#Extract membrane time constants (pre-training) -----\n",
        "\n",
        "tc_hist = []\n",
        "pretrain_tau = (-time_step / np.log(het_tau.cpu())) / 1e-3\n",
        "tc_hist.append(pretrain_tau.numpy())"
      ]
    },
    {
      "cell_type": "code",
      "execution_count": 8,
      "metadata": {
        "colab": {
          "base_uri": "https://localhost:8080/"
        },
        "id": "karLJOFXmPW0",
        "outputId": "270680bb-3e8e-467a-a657-e46e302212d1"
      },
      "outputs": [
        {
          "output_type": "stream",
          "name": "stdout",
          "text": [
            "time: 477 µs (started: 2023-04-11 13:28:30 +00:00)\n"
          ]
        }
      ],
      "source": [
        "#Optimizer and loss function -----\n",
        "\n",
        "optimizer = torch.optim.Adam(net.parameters(), lr = 1e-3, betas = (0.9, 0.999))\n",
        "loss_fn = SF.ce_max_membrane_loss()"
      ]
    },
    {
      "cell_type": "code",
      "execution_count": 9,
      "metadata": {
        "colab": {
          "base_uri": "https://localhost:8080/"
        },
        "id": "0C5LYyWjmU78",
        "outputId": "650df000-2bb6-4abb-c674-00f7748fe2fb"
      },
      "outputs": [
        {
          "output_type": "stream",
          "name": "stdout",
          "text": [
            "time: 1.46 ms (started: 2023-04-11 13:28:30 +00:00)\n"
          ]
        }
      ],
      "source": [
        "#Distance matrix -----\n",
        "network_structure = [5, 5, 4]\n",
        "distance_metric = 'euclidean'\n",
        "distance_power = 1\n",
        "\n",
        "#Define each dimension's neurons\n",
        "nx = np.arange(network_structure[0])\n",
        "ny = np.arange(network_structure[1])\n",
        "nz = np.arange(network_structure[2])\n",
        "\n",
        "#Create coordinate grid\n",
        "[x,y,z] = np.meshgrid(nx,ny,nz)\n",
        "coordinates = [x.ravel(),y.ravel(),z.ravel()]\n",
        "\n",
        "#Calculate Euclidean distance matrix\n",
        "euclidean_vector = scipy.spatial.distance.pdist(np.transpose(coordinates), metric=distance_metric)\n",
        "euclidean = scipy.spatial.distance.squareform(euclidean_vector**distance_power)\n",
        "distance_matrix = euclidean.astype('float64')\n",
        "\n",
        "#Create tensor from distance matrix\n",
        "distance_matrix = torch.from_numpy(distance_matrix).to(device)"
      ]
    },
    {
      "cell_type": "code",
      "execution_count": 10,
      "metadata": {
        "colab": {
          "base_uri": "https://localhost:8080/"
        },
        "id": "dYCkQga6mW1E",
        "outputId": "14132dff-6569-4d31-b3b8-64e402540272"
      },
      "outputs": [
        {
          "output_type": "stream",
          "name": "stdout",
          "text": [
            "Initial, pre-training correlation between distance and weight matrices (should be approx. 0): -0.016351912685894438\n",
            "time: 15.7 ms (started: 2023-04-11 13:28:30 +00:00)\n"
          ]
        }
      ],
      "source": [
        "#Diagnostic tests -----\n",
        "\n",
        "#Test for spatial regularization\n",
        "def test_euclidean(x, y):\n",
        "    x = torch.abs(x)\n",
        "    x_array = x.detach().cpu().numpy()\n",
        "    flat_x_array = x_array.flatten()\n",
        "    y = torch.abs(y)\n",
        "    y_array = y.detach().cpu().numpy()\n",
        "    flat_y_array = y_array.flatten()\n",
        "    correlation = pearsonr(flat_x_array, flat_y_array)[0]\n",
        "    return correlation\n",
        "\n",
        "print(f\"Initial, pre-training correlation between distance and weight matrices (should be approx. 0): {test_euclidean(distance_matrix, net.lif1.recurrent.weight)}\")"
      ]
    },
    {
      "cell_type": "code",
      "execution_count": 11,
      "metadata": {
        "id": "KTSnOUIimZqq",
        "colab": {
          "base_uri": "https://localhost:8080/"
        },
        "outputId": "256f0fe5-c8f6-4483-dd95-756cbc471ec1"
      },
      "outputs": [
        {
          "output_type": "stream",
          "name": "stdout",
          "text": [
            "Epoch 1/50 === Train loss: 2.99 --- Spike accuracy: 8.59% --- Mem. potential accuracy: 5.59% --- Val. loss: 3.02 --- Val. accuracy: 5.24%\n",
            "\n",
            "Epoch 2/50 === Train loss: 3.00 --- Spike accuracy: 7.81% --- Mem. potential accuracy: 5.33% --- Val. loss: 2.92 --- Val. accuracy: 6.62%\n",
            "\n",
            "Epoch 3/50 === Train loss: 2.92 --- Spike accuracy: 16.41% --- Mem. potential accuracy: 8.07% --- Val. loss: 2.96 --- Val. accuracy: 9.10%\n",
            "\n",
            "Epoch 4/50 === Train loss: 2.85 --- Spike accuracy: 14.06% --- Mem. potential accuracy: 9.02% --- Val. loss: 2.88 --- Val. accuracy: 14.29%\n",
            "\n",
            "Epoch 5/50 === Train loss: 2.83 --- Spike accuracy: 13.28% --- Mem. potential accuracy: 9.73% --- Val. loss: 2.83 --- Val. accuracy: 9.83%\n",
            "\n",
            "Epoch 6/50 === Train loss: 2.72 --- Spike accuracy: 21.09% --- Mem. potential accuracy: 10.84% --- Val. loss: 2.90 --- Val. accuracy: 11.44%\n",
            "\n",
            "Epoch 7/50 === Train loss: 2.83 --- Spike accuracy: 17.19% --- Mem. potential accuracy: 10.14% --- Val. loss: 2.76 --- Val. accuracy: 11.26%\n",
            "\n",
            "Epoch 8/50 === Train loss: 2.74 --- Spike accuracy: 12.50% --- Mem. potential accuracy: 9.20% --- Val. loss: 2.67 --- Val. accuracy: 9.65%\n",
            "\n",
            "Epoch 9/50 === Train loss: 2.83 --- Spike accuracy: 10.94% --- Mem. potential accuracy: 9.28% --- Val. loss: 2.68 --- Val. accuracy: 9.01%\n",
            "\n",
            "Epoch 10/50 === Train loss: 2.84 --- Spike accuracy: 11.72% --- Mem. potential accuracy: 11.01% --- Val. loss: 2.81 --- Val. accuracy: 10.02%\n",
            "\n",
            "Epoch 11/50 === Train loss: 2.64 --- Spike accuracy: 18.75% --- Mem. potential accuracy: 11.16% --- Val. loss: 2.64 --- Val. accuracy: 10.29%\n",
            "\n",
            "Epoch 12/50 === Train loss: 2.70 --- Spike accuracy: 21.88% --- Mem. potential accuracy: 12.36% --- Val. loss: 2.77 --- Val. accuracy: 10.71%\n",
            "\n",
            "Epoch 13/50 === Train loss: 2.53 --- Spike accuracy: 21.09% --- Mem. potential accuracy: 8.64% --- Val. loss: 2.73 --- Val. accuracy: 10.02%\n",
            "\n",
            "Epoch 14/50 === Train loss: 2.57 --- Spike accuracy: 21.09% --- Mem. potential accuracy: 10.47% --- Val. loss: 2.66 --- Val. accuracy: 14.52%\n",
            "\n",
            "Epoch 15/50 === Train loss: 2.57 --- Spike accuracy: 21.88% --- Mem. potential accuracy: 13.32% --- Val. loss: 2.48 --- Val. accuracy: 13.74%\n",
            "\n",
            "Epoch 16/50 === Train loss: 2.56 --- Spike accuracy: 15.62% --- Mem. potential accuracy: 12.00% --- Val. loss: 2.53 --- Val. accuracy: 11.44%\n",
            "\n",
            "Epoch 17/50 === Train loss: 2.54 --- Spike accuracy: 16.41% --- Mem. potential accuracy: 11.14% --- Val. loss: 2.37 --- Val. accuracy: 12.13%\n",
            "\n",
            "Epoch 18/50 === Train loss: 2.39 --- Spike accuracy: 17.97% --- Mem. potential accuracy: 11.79% --- Val. loss: 2.38 --- Val. accuracy: 15.07%\n",
            "\n",
            "Epoch 19/50 === Train loss: 2.72 --- Spike accuracy: 17.97% --- Mem. potential accuracy: 12.29% --- Val. loss: 2.70 --- Val. accuracy: 12.32%\n",
            "\n",
            "Epoch 20/50 === Train loss: 2.47 --- Spike accuracy: 25.00% --- Mem. potential accuracy: 17.36% --- Val. loss: 2.54 --- Val. accuracy: 16.73%\n",
            "\n",
            "Epoch 21/50 === Train loss: 2.33 --- Spike accuracy: 30.47% --- Mem. potential accuracy: 16.47% --- Val. loss: 2.35 --- Val. accuracy: 11.90%\n",
            "\n",
            "Epoch 22/50 === Train loss: 2.36 --- Spike accuracy: 24.22% --- Mem. potential accuracy: 15.81% --- Val. loss: 2.41 --- Val. accuracy: 18.20%\n",
            "\n",
            "Epoch 23/50 === Train loss: 2.29 --- Spike accuracy: 28.12% --- Mem. potential accuracy: 17.14% --- Val. loss: 2.51 --- Val. accuracy: 17.65%\n",
            "\n",
            "Epoch 24/50 === Train loss: 2.20 --- Spike accuracy: 27.34% --- Mem. potential accuracy: 19.25% --- Val. loss: 2.48 --- Val. accuracy: 22.47%\n",
            "\n",
            "Epoch 25/50 === Train loss: 2.34 --- Spike accuracy: 21.88% --- Mem. potential accuracy: 18.12% --- Val. loss: 2.50 --- Val. accuracy: 14.71%\n",
            "\n",
            "Epoch 26/50 === Train loss: 2.04 --- Spike accuracy: 26.56% --- Mem. potential accuracy: 18.56% --- Val. loss: 2.85 --- Val. accuracy: 15.76%\n",
            "\n",
            "Epoch 27/50 === Train loss: 2.19 --- Spike accuracy: 28.91% --- Mem. potential accuracy: 17.29% --- Val. loss: 2.56 --- Val. accuracy: 19.30%\n",
            "\n",
            "Epoch 28/50 === Train loss: 2.13 --- Spike accuracy: 27.34% --- Mem. potential accuracy: 17.19% --- Val. loss: 2.32 --- Val. accuracy: 12.36%\n",
            "\n",
            "Epoch 29/50 === Train loss: 2.28 --- Spike accuracy: 26.56% --- Mem. potential accuracy: 15.54% --- Val. loss: 2.32 --- Val. accuracy: 13.33%\n",
            "\n",
            "Epoch 30/50 === Train loss: 2.11 --- Spike accuracy: 28.12% --- Mem. potential accuracy: 18.13% --- Val. loss: 2.42 --- Val. accuracy: 14.66%\n",
            "\n",
            "Epoch 31/50 === Train loss: 2.09 --- Spike accuracy: 39.84% --- Mem. potential accuracy: 16.51% --- Val. loss: 2.44 --- Val. accuracy: 17.37%\n",
            "\n",
            "Epoch 32/50 === Train loss: 2.05 --- Spike accuracy: 42.97% --- Mem. potential accuracy: 16.58% --- Val. loss: 2.50 --- Val. accuracy: 15.72%\n",
            "\n",
            "Epoch 33/50 === Train loss: 1.98 --- Spike accuracy: 42.97% --- Mem. potential accuracy: 14.76% --- Val. loss: 2.63 --- Val. accuracy: 14.15%\n",
            "\n",
            "Epoch 34/50 === Train loss: 1.89 --- Spike accuracy: 35.16% --- Mem. potential accuracy: 13.11% --- Val. loss: 2.50 --- Val. accuracy: 17.60%\n",
            "\n",
            "Epoch 35/50 === Train loss: 1.97 --- Spike accuracy: 42.19% --- Mem. potential accuracy: 13.47% --- Val. loss: 2.37 --- Val. accuracy: 13.19%\n",
            "\n",
            "Epoch 36/50 === Train loss: 1.83 --- Spike accuracy: 32.03% --- Mem. potential accuracy: 14.71% --- Val. loss: 2.88 --- Val. accuracy: 18.66%\n",
            "\n",
            "Epoch 37/50 === Train loss: 2.03 --- Spike accuracy: 29.69% --- Mem. potential accuracy: 15.28% --- Val. loss: 2.73 --- Val. accuracy: 15.53%\n",
            "\n",
            "Epoch 38/50 === Train loss: 1.95 --- Spike accuracy: 34.38% --- Mem. potential accuracy: 14.48% --- Val. loss: 2.92 --- Val. accuracy: 16.45%\n",
            "\n",
            "Epoch 39/50 === Train loss: 2.16 --- Spike accuracy: 32.03% --- Mem. potential accuracy: 17.71% --- Val. loss: 3.09 --- Val. accuracy: 19.30%\n",
            "\n",
            "Epoch 40/50 === Train loss: 1.83 --- Spike accuracy: 37.50% --- Mem. potential accuracy: 15.50% --- Val. loss: 2.22 --- Val. accuracy: 13.56%\n",
            "\n",
            "Epoch 41/50 === Train loss: 1.78 --- Spike accuracy: 36.72% --- Mem. potential accuracy: 13.91% --- Val. loss: 2.26 --- Val. accuracy: 16.18%\n",
            "\n",
            "Epoch 42/50 === Train loss: 1.74 --- Spike accuracy: 35.94% --- Mem. potential accuracy: 13.93% --- Val. loss: 2.24 --- Val. accuracy: 18.80%\n",
            "\n",
            "Epoch 43/50 === Train loss: 1.80 --- Spike accuracy: 36.72% --- Mem. potential accuracy: 12.15% --- Val. loss: 2.48 --- Val. accuracy: 14.75%\n",
            "\n",
            "Epoch 44/50 === Train loss: 2.00 --- Spike accuracy: 37.50% --- Mem. potential accuracy: 14.45% --- Val. loss: 2.43 --- Val. accuracy: 14.52%\n",
            "\n",
            "Epoch 45/50 === Train loss: 1.97 --- Spike accuracy: 22.66% --- Mem. potential accuracy: 8.49% --- Val. loss: 2.42 --- Val. accuracy: 6.43%\n",
            "\n",
            "Epoch 46/50 === Train loss: 1.68 --- Spike accuracy: 25.00% --- Mem. potential accuracy: 11.04% --- Val. loss: 2.51 --- Val. accuracy: 8.87%\n",
            "\n",
            "Epoch 47/50 === Train loss: 1.75 --- Spike accuracy: 28.12% --- Mem. potential accuracy: 10.16% --- Val. loss: 2.49 --- Val. accuracy: 10.02%\n",
            "\n",
            "Epoch 48/50 === Train loss: 1.98 --- Spike accuracy: 10.94% --- Mem. potential accuracy: 8.00% --- Val. loss: 2.36 --- Val. accuracy: 6.62%\n",
            "\n",
            "Epoch 49/50 === Train loss: 1.71 --- Spike accuracy: 18.75% --- Mem. potential accuracy: 9.50% --- Val. loss: 2.08 --- Val. accuracy: 10.06%\n",
            "\n",
            "Epoch 50/50 === Train loss: 2.02 --- Spike accuracy: 23.44% --- Mem. potential accuracy: 12.91% --- Val. loss: 2.72 --- Val. accuracy: 12.55%\n",
            "\n",
            "time: 2h 12min 10s (started: 2023-04-11 13:28:30 +00:00)\n"
          ]
        }
      ],
      "source": [
        "#Training parameters\n",
        "num_epochs = 50\n",
        "comms_factor = 1\n",
        "\n",
        "#Regularization parameters\n",
        "regu_strength = 1e-5\n",
        "\n",
        "#Initialize variables of interest\n",
        "train_loss_hist = []\n",
        "spk_acc_hist = []\n",
        "mem_acc_hist = []\n",
        "rec_tot_hist = []\n",
        "corr_hist = []\n",
        "test_acc_hist = []\n",
        "test_loss_hist = []\n",
        "\n",
        "#Initialize hidden/readout layer attributes\n",
        "spk_rec_hist = []\n",
        "mem_rec_hist = []\n",
        "spk_out_hist = []\n",
        "mem_out_hist = []\n",
        "\n",
        "#Pre-training extractions\n",
        "rec_tot_hist.append(torch.sum(torch.abs(net.lif1.recurrent.weight.detach())))\n",
        "corr_hist.append(test_euclidean(distance_matrix, net.lif1.recurrent.weight))\n",
        "\n",
        "#Training loop\n",
        "for epoch in range(1, num_epochs + 1):\n",
        "    correct_train = 0\n",
        "    total_train = 0\n",
        "    for i, (data, targets) in enumerate(iter(trainloader)):\n",
        "\n",
        "        #Load data on CUDA\n",
        "        data = data.to(device)\n",
        "        targets = targets.to(device)\n",
        "\n",
        "        #Set model to training mode\n",
        "        net.train()\n",
        "        spk_out, mem_out, spk_rec, mem_rec = net(data)\n",
        "\n",
        "        #Calculate loss\n",
        "        loss_val = loss_fn(mem_out, targets) \n",
        "\n",
        "        #Gradient calculation and weight updates\n",
        "        optimizer.zero_grad()\n",
        "        loss_val.backward()\n",
        "        optimizer.step()\n",
        "        #clip_tc(net.lif1.beta.detach())\n",
        "\n",
        "        #Save loss history\n",
        "        train_loss_hist.append(loss_val.item())\n",
        "\n",
        "        #New training accuracy\n",
        "        _, predicted_train = mem_out.sum(dim=0).max(1)\n",
        "        correct_train += (predicted_train == targets).sum().item()\n",
        "        total_train += targets.size(0)\n",
        "\n",
        "        #Save recurrent spikes/potentials\n",
        "        #sum_spk_rec = spk_rec.sum(0)\n",
        "        #sum_mem_rec = mem_rec.sum(0)\n",
        "        #summed_spk_rec = sum_spk_rec.sum(0)\n",
        "        #summed_mem_rec = sum_mem_rec.sum(0)\n",
        "\n",
        "        #spk_rec_hist.append(summed_spk_rec)\n",
        "        #mem_rec_hist.append(summed_mem_rec)\n",
        "\n",
        "        #Save readout spikes/potentials\n",
        "        #sum_spk_out = spk_out.sum(0)\n",
        "        #sum_mem_out = mem_out.sum(0)\n",
        "        #summed_spk_out = sum_spk_out.sum(0)\n",
        "        #summed_mem_out = sum_mem_out.sum(0)\n",
        "\n",
        "        #spk_out_hist.append(summed_spk_out)\n",
        "        #mem_out_hist.append(summed_mem_out)\n",
        "\n",
        "    #Evaluations (every epoch)\n",
        "    net.eval()\n",
        "\n",
        "    #Training accuracy (spike rate)\n",
        "    spk_acc = SF.accuracy_rate(spk_out, targets)\n",
        "    spk_acc_hist.append(spk_acc)\n",
        "\n",
        "    #Training accuracy (membrane potential)\n",
        "    mem_acc = correct_train/total_train\n",
        "    mem_acc_hist.append(mem_acc)\n",
        "\n",
        "    #Sum of recurrent weights\n",
        "    rec_tot = torch.sum(torch.abs(net.lif1.recurrent.weight.detach()))\n",
        "    rec_tot_hist.append(rec_tot)\n",
        "\n",
        "    #Correlation of distance and weight matrices\n",
        "    corr_matrix = test_euclidean(distance_matrix, net.lif1.recurrent.weight.detach())\n",
        "    corr_hist.append(corr_matrix)\n",
        "\n",
        "    #Save time constants\n",
        "    converted_tc = (-time_step / np.log(net.lif1.beta.detach().cpu())) / 1e-3\n",
        "    tc_hist.append(converted_tc.numpy())\n",
        "\n",
        "    #Validation accuracy\n",
        "    with torch.no_grad():\n",
        "        total = 0\n",
        "        correct = 0\n",
        "        net.eval()\n",
        "\n",
        "        for data, targets in iter(testloader):\n",
        "            data = data.to(device)\n",
        "            targets = targets.to(device)\n",
        "\n",
        "            test_spk, test_mem, _, _ = net(data)\n",
        "            _, predicted = test_mem.sum(dim=0).max(1)\n",
        "            total += targets.size(0)\n",
        "            correct += (predicted == targets).sum().item()\n",
        "            test_loss = loss_fn(test_mem, targets)\n",
        "\n",
        "        test_acc_hist.append(correct / total)\n",
        "        test_loss_hist.append(test_loss.item())\n",
        "\n",
        "    #Print statements\n",
        "    if epoch % 1 == 0:\n",
        "        print(f\"Epoch {epoch}/{num_epochs} === Train loss: {loss_val.item():.2f} --- \", end = \"\")\n",
        "        print(f\"Spike accuracy: {spk_acc * 100:.2f}% --- \", end = \"\")\n",
        "        print(f\"Mem. potential accuracy: {mem_acc * 100:.2f}% --- \", end = \"\")\n",
        "        print(f\"Val. loss: {test_loss.item():.2f} --- \", end = \"\")\n",
        "        print(f\"Val. accuracy: {100 * correct / total:.2f}%\\n\")"
      ]
    }
  ],
  "metadata": {
    "accelerator": "GPU",
    "colab": {
      "provenance": [],
      "include_colab_link": true
    },
    "gpuClass": "standard",
    "kernelspec": {
      "display_name": "Python 3",
      "name": "python3"
    },
    "language_info": {
      "name": "python"
    },
    "widgets": {
      "application/vnd.jupyter.widget-state+json": {
        "1b6e6b644af54bf8826725105c4446a3": {
          "model_module": "@jupyter-widgets/controls",
          "model_name": "HBoxModel",
          "model_module_version": "1.5.0",
          "state": {
            "_dom_classes": [],
            "_model_module": "@jupyter-widgets/controls",
            "_model_module_version": "1.5.0",
            "_model_name": "HBoxModel",
            "_view_count": null,
            "_view_module": "@jupyter-widgets/controls",
            "_view_module_version": "1.5.0",
            "_view_name": "HBoxView",
            "box_style": "",
            "children": [
              "IPY_MODEL_b8cbf0a952b04da28de89d816e355ac2",
              "IPY_MODEL_7b6feff695d14b3bb2a99d66a43515b7",
              "IPY_MODEL_9b167ededefa4e9c9d95e38aee3e54be"
            ],
            "layout": "IPY_MODEL_bc4a1588c166401d86c3f83378916cbc"
          }
        },
        "b8cbf0a952b04da28de89d816e355ac2": {
          "model_module": "@jupyter-widgets/controls",
          "model_name": "HTMLModel",
          "model_module_version": "1.5.0",
          "state": {
            "_dom_classes": [],
            "_model_module": "@jupyter-widgets/controls",
            "_model_module_version": "1.5.0",
            "_model_name": "HTMLModel",
            "_view_count": null,
            "_view_module": "@jupyter-widgets/controls",
            "_view_module_version": "1.5.0",
            "_view_name": "HTMLView",
            "description": "",
            "description_tooltip": null,
            "layout": "IPY_MODEL_1ff0563eb16a4948a9bf2fa137be2c83",
            "placeholder": "​",
            "style": "IPY_MODEL_99b17336a4114fd69372111843cf3414",
            "value": ""
          }
        },
        "7b6feff695d14b3bb2a99d66a43515b7": {
          "model_module": "@jupyter-widgets/controls",
          "model_name": "FloatProgressModel",
          "model_module_version": "1.5.0",
          "state": {
            "_dom_classes": [],
            "_model_module": "@jupyter-widgets/controls",
            "_model_module_version": "1.5.0",
            "_model_name": "FloatProgressModel",
            "_view_count": null,
            "_view_module": "@jupyter-widgets/controls",
            "_view_module_version": "1.5.0",
            "_view_name": "ProgressView",
            "bar_style": "success",
            "description": "",
            "description_tooltip": null,
            "layout": "IPY_MODEL_b8b60c94f75b428f9df9c59a59a6ea23",
            "max": 130863613,
            "min": 0,
            "orientation": "horizontal",
            "style": "IPY_MODEL_0fdf5c6fd0c7463caf6ebcdc7d109ab8",
            "value": 130863613
          }
        },
        "9b167ededefa4e9c9d95e38aee3e54be": {
          "model_module": "@jupyter-widgets/controls",
          "model_name": "HTMLModel",
          "model_module_version": "1.5.0",
          "state": {
            "_dom_classes": [],
            "_model_module": "@jupyter-widgets/controls",
            "_model_module_version": "1.5.0",
            "_model_name": "HTMLModel",
            "_view_count": null,
            "_view_module": "@jupyter-widgets/controls",
            "_view_module_version": "1.5.0",
            "_view_name": "HTMLView",
            "description": "",
            "description_tooltip": null,
            "layout": "IPY_MODEL_f92d4daa73f74443b48f596561850b0c",
            "placeholder": "​",
            "style": "IPY_MODEL_e43e4e2042b54525a8d7b589e42e15c1",
            "value": " 130864128/? [00:04&lt;00:00, 32349245.42it/s]"
          }
        },
        "bc4a1588c166401d86c3f83378916cbc": {
          "model_module": "@jupyter-widgets/base",
          "model_name": "LayoutModel",
          "model_module_version": "1.2.0",
          "state": {
            "_model_module": "@jupyter-widgets/base",
            "_model_module_version": "1.2.0",
            "_model_name": "LayoutModel",
            "_view_count": null,
            "_view_module": "@jupyter-widgets/base",
            "_view_module_version": "1.2.0",
            "_view_name": "LayoutView",
            "align_content": null,
            "align_items": null,
            "align_self": null,
            "border": null,
            "bottom": null,
            "display": null,
            "flex": null,
            "flex_flow": null,
            "grid_area": null,
            "grid_auto_columns": null,
            "grid_auto_flow": null,
            "grid_auto_rows": null,
            "grid_column": null,
            "grid_gap": null,
            "grid_row": null,
            "grid_template_areas": null,
            "grid_template_columns": null,
            "grid_template_rows": null,
            "height": null,
            "justify_content": null,
            "justify_items": null,
            "left": null,
            "margin": null,
            "max_height": null,
            "max_width": null,
            "min_height": null,
            "min_width": null,
            "object_fit": null,
            "object_position": null,
            "order": null,
            "overflow": null,
            "overflow_x": null,
            "overflow_y": null,
            "padding": null,
            "right": null,
            "top": null,
            "visibility": null,
            "width": null
          }
        },
        "1ff0563eb16a4948a9bf2fa137be2c83": {
          "model_module": "@jupyter-widgets/base",
          "model_name": "LayoutModel",
          "model_module_version": "1.2.0",
          "state": {
            "_model_module": "@jupyter-widgets/base",
            "_model_module_version": "1.2.0",
            "_model_name": "LayoutModel",
            "_view_count": null,
            "_view_module": "@jupyter-widgets/base",
            "_view_module_version": "1.2.0",
            "_view_name": "LayoutView",
            "align_content": null,
            "align_items": null,
            "align_self": null,
            "border": null,
            "bottom": null,
            "display": null,
            "flex": null,
            "flex_flow": null,
            "grid_area": null,
            "grid_auto_columns": null,
            "grid_auto_flow": null,
            "grid_auto_rows": null,
            "grid_column": null,
            "grid_gap": null,
            "grid_row": null,
            "grid_template_areas": null,
            "grid_template_columns": null,
            "grid_template_rows": null,
            "height": null,
            "justify_content": null,
            "justify_items": null,
            "left": null,
            "margin": null,
            "max_height": null,
            "max_width": null,
            "min_height": null,
            "min_width": null,
            "object_fit": null,
            "object_position": null,
            "order": null,
            "overflow": null,
            "overflow_x": null,
            "overflow_y": null,
            "padding": null,
            "right": null,
            "top": null,
            "visibility": null,
            "width": null
          }
        },
        "99b17336a4114fd69372111843cf3414": {
          "model_module": "@jupyter-widgets/controls",
          "model_name": "DescriptionStyleModel",
          "model_module_version": "1.5.0",
          "state": {
            "_model_module": "@jupyter-widgets/controls",
            "_model_module_version": "1.5.0",
            "_model_name": "DescriptionStyleModel",
            "_view_count": null,
            "_view_module": "@jupyter-widgets/base",
            "_view_module_version": "1.2.0",
            "_view_name": "StyleView",
            "description_width": ""
          }
        },
        "b8b60c94f75b428f9df9c59a59a6ea23": {
          "model_module": "@jupyter-widgets/base",
          "model_name": "LayoutModel",
          "model_module_version": "1.2.0",
          "state": {
            "_model_module": "@jupyter-widgets/base",
            "_model_module_version": "1.2.0",
            "_model_name": "LayoutModel",
            "_view_count": null,
            "_view_module": "@jupyter-widgets/base",
            "_view_module_version": "1.2.0",
            "_view_name": "LayoutView",
            "align_content": null,
            "align_items": null,
            "align_self": null,
            "border": null,
            "bottom": null,
            "display": null,
            "flex": null,
            "flex_flow": null,
            "grid_area": null,
            "grid_auto_columns": null,
            "grid_auto_flow": null,
            "grid_auto_rows": null,
            "grid_column": null,
            "grid_gap": null,
            "grid_row": null,
            "grid_template_areas": null,
            "grid_template_columns": null,
            "grid_template_rows": null,
            "height": null,
            "justify_content": null,
            "justify_items": null,
            "left": null,
            "margin": null,
            "max_height": null,
            "max_width": null,
            "min_height": null,
            "min_width": null,
            "object_fit": null,
            "object_position": null,
            "order": null,
            "overflow": null,
            "overflow_x": null,
            "overflow_y": null,
            "padding": null,
            "right": null,
            "top": null,
            "visibility": null,
            "width": null
          }
        },
        "0fdf5c6fd0c7463caf6ebcdc7d109ab8": {
          "model_module": "@jupyter-widgets/controls",
          "model_name": "ProgressStyleModel",
          "model_module_version": "1.5.0",
          "state": {
            "_model_module": "@jupyter-widgets/controls",
            "_model_module_version": "1.5.0",
            "_model_name": "ProgressStyleModel",
            "_view_count": null,
            "_view_module": "@jupyter-widgets/base",
            "_view_module_version": "1.2.0",
            "_view_name": "StyleView",
            "bar_color": null,
            "description_width": ""
          }
        },
        "f92d4daa73f74443b48f596561850b0c": {
          "model_module": "@jupyter-widgets/base",
          "model_name": "LayoutModel",
          "model_module_version": "1.2.0",
          "state": {
            "_model_module": "@jupyter-widgets/base",
            "_model_module_version": "1.2.0",
            "_model_name": "LayoutModel",
            "_view_count": null,
            "_view_module": "@jupyter-widgets/base",
            "_view_module_version": "1.2.0",
            "_view_name": "LayoutView",
            "align_content": null,
            "align_items": null,
            "align_self": null,
            "border": null,
            "bottom": null,
            "display": null,
            "flex": null,
            "flex_flow": null,
            "grid_area": null,
            "grid_auto_columns": null,
            "grid_auto_flow": null,
            "grid_auto_rows": null,
            "grid_column": null,
            "grid_gap": null,
            "grid_row": null,
            "grid_template_areas": null,
            "grid_template_columns": null,
            "grid_template_rows": null,
            "height": null,
            "justify_content": null,
            "justify_items": null,
            "left": null,
            "margin": null,
            "max_height": null,
            "max_width": null,
            "min_height": null,
            "min_width": null,
            "object_fit": null,
            "object_position": null,
            "order": null,
            "overflow": null,
            "overflow_x": null,
            "overflow_y": null,
            "padding": null,
            "right": null,
            "top": null,
            "visibility": null,
            "width": null
          }
        },
        "e43e4e2042b54525a8d7b589e42e15c1": {
          "model_module": "@jupyter-widgets/controls",
          "model_name": "DescriptionStyleModel",
          "model_module_version": "1.5.0",
          "state": {
            "_model_module": "@jupyter-widgets/controls",
            "_model_module_version": "1.5.0",
            "_model_name": "DescriptionStyleModel",
            "_view_count": null,
            "_view_module": "@jupyter-widgets/base",
            "_view_module_version": "1.2.0",
            "_view_name": "StyleView",
            "description_width": ""
          }
        },
        "70c98dc8949a45738429bcebcecac8ee": {
          "model_module": "@jupyter-widgets/controls",
          "model_name": "HBoxModel",
          "model_module_version": "1.5.0",
          "state": {
            "_dom_classes": [],
            "_model_module": "@jupyter-widgets/controls",
            "_model_module_version": "1.5.0",
            "_model_name": "HBoxModel",
            "_view_count": null,
            "_view_module": "@jupyter-widgets/controls",
            "_view_module_version": "1.5.0",
            "_view_name": "HBoxView",
            "box_style": "",
            "children": [
              "IPY_MODEL_a23f1f30700a4e7b8831f62894376b2e",
              "IPY_MODEL_d85fce4959ef466991ada71a4d7044a1",
              "IPY_MODEL_a26890d2bfa4404ab86a638fc7f83eea"
            ],
            "layout": "IPY_MODEL_b8feafcf0acf42d586c64c0bcce3c3e2"
          }
        },
        "a23f1f30700a4e7b8831f62894376b2e": {
          "model_module": "@jupyter-widgets/controls",
          "model_name": "HTMLModel",
          "model_module_version": "1.5.0",
          "state": {
            "_dom_classes": [],
            "_model_module": "@jupyter-widgets/controls",
            "_model_module_version": "1.5.0",
            "_model_name": "HTMLModel",
            "_view_count": null,
            "_view_module": "@jupyter-widgets/controls",
            "_view_module_version": "1.5.0",
            "_view_name": "HTMLView",
            "description": "",
            "description_tooltip": null,
            "layout": "IPY_MODEL_deea595221a8427fa6d39ca8c5472193",
            "placeholder": "​",
            "style": "IPY_MODEL_8fa6f56819fd4881889dc18a000d45a1",
            "value": ""
          }
        },
        "d85fce4959ef466991ada71a4d7044a1": {
          "model_module": "@jupyter-widgets/controls",
          "model_name": "FloatProgressModel",
          "model_module_version": "1.5.0",
          "state": {
            "_dom_classes": [],
            "_model_module": "@jupyter-widgets/controls",
            "_model_module_version": "1.5.0",
            "_model_name": "FloatProgressModel",
            "_view_count": null,
            "_view_module": "@jupyter-widgets/controls",
            "_view_module_version": "1.5.0",
            "_view_name": "ProgressView",
            "bar_style": "success",
            "description": "",
            "description_tooltip": null,
            "layout": "IPY_MODEL_b2b09b664a0f4b30b7555c2b8502dcfe",
            "max": 38141465,
            "min": 0,
            "orientation": "horizontal",
            "style": "IPY_MODEL_a5dfd05d0d304361b8c6f26f792e6ec2",
            "value": 38141465
          }
        },
        "a26890d2bfa4404ab86a638fc7f83eea": {
          "model_module": "@jupyter-widgets/controls",
          "model_name": "HTMLModel",
          "model_module_version": "1.5.0",
          "state": {
            "_dom_classes": [],
            "_model_module": "@jupyter-widgets/controls",
            "_model_module_version": "1.5.0",
            "_model_name": "HTMLModel",
            "_view_count": null,
            "_view_module": "@jupyter-widgets/controls",
            "_view_module_version": "1.5.0",
            "_view_name": "HTMLView",
            "description": "",
            "description_tooltip": null,
            "layout": "IPY_MODEL_d8461eab4e4e46d2bca88ab0666d0040",
            "placeholder": "​",
            "style": "IPY_MODEL_33c88da959574636bd11629cb361f2b8",
            "value": " 38141952/? [00:01&lt;00:00, 30604023.30it/s]"
          }
        },
        "b8feafcf0acf42d586c64c0bcce3c3e2": {
          "model_module": "@jupyter-widgets/base",
          "model_name": "LayoutModel",
          "model_module_version": "1.2.0",
          "state": {
            "_model_module": "@jupyter-widgets/base",
            "_model_module_version": "1.2.0",
            "_model_name": "LayoutModel",
            "_view_count": null,
            "_view_module": "@jupyter-widgets/base",
            "_view_module_version": "1.2.0",
            "_view_name": "LayoutView",
            "align_content": null,
            "align_items": null,
            "align_self": null,
            "border": null,
            "bottom": null,
            "display": null,
            "flex": null,
            "flex_flow": null,
            "grid_area": null,
            "grid_auto_columns": null,
            "grid_auto_flow": null,
            "grid_auto_rows": null,
            "grid_column": null,
            "grid_gap": null,
            "grid_row": null,
            "grid_template_areas": null,
            "grid_template_columns": null,
            "grid_template_rows": null,
            "height": null,
            "justify_content": null,
            "justify_items": null,
            "left": null,
            "margin": null,
            "max_height": null,
            "max_width": null,
            "min_height": null,
            "min_width": null,
            "object_fit": null,
            "object_position": null,
            "order": null,
            "overflow": null,
            "overflow_x": null,
            "overflow_y": null,
            "padding": null,
            "right": null,
            "top": null,
            "visibility": null,
            "width": null
          }
        },
        "deea595221a8427fa6d39ca8c5472193": {
          "model_module": "@jupyter-widgets/base",
          "model_name": "LayoutModel",
          "model_module_version": "1.2.0",
          "state": {
            "_model_module": "@jupyter-widgets/base",
            "_model_module_version": "1.2.0",
            "_model_name": "LayoutModel",
            "_view_count": null,
            "_view_module": "@jupyter-widgets/base",
            "_view_module_version": "1.2.0",
            "_view_name": "LayoutView",
            "align_content": null,
            "align_items": null,
            "align_self": null,
            "border": null,
            "bottom": null,
            "display": null,
            "flex": null,
            "flex_flow": null,
            "grid_area": null,
            "grid_auto_columns": null,
            "grid_auto_flow": null,
            "grid_auto_rows": null,
            "grid_column": null,
            "grid_gap": null,
            "grid_row": null,
            "grid_template_areas": null,
            "grid_template_columns": null,
            "grid_template_rows": null,
            "height": null,
            "justify_content": null,
            "justify_items": null,
            "left": null,
            "margin": null,
            "max_height": null,
            "max_width": null,
            "min_height": null,
            "min_width": null,
            "object_fit": null,
            "object_position": null,
            "order": null,
            "overflow": null,
            "overflow_x": null,
            "overflow_y": null,
            "padding": null,
            "right": null,
            "top": null,
            "visibility": null,
            "width": null
          }
        },
        "8fa6f56819fd4881889dc18a000d45a1": {
          "model_module": "@jupyter-widgets/controls",
          "model_name": "DescriptionStyleModel",
          "model_module_version": "1.5.0",
          "state": {
            "_model_module": "@jupyter-widgets/controls",
            "_model_module_version": "1.5.0",
            "_model_name": "DescriptionStyleModel",
            "_view_count": null,
            "_view_module": "@jupyter-widgets/base",
            "_view_module_version": "1.2.0",
            "_view_name": "StyleView",
            "description_width": ""
          }
        },
        "b2b09b664a0f4b30b7555c2b8502dcfe": {
          "model_module": "@jupyter-widgets/base",
          "model_name": "LayoutModel",
          "model_module_version": "1.2.0",
          "state": {
            "_model_module": "@jupyter-widgets/base",
            "_model_module_version": "1.2.0",
            "_model_name": "LayoutModel",
            "_view_count": null,
            "_view_module": "@jupyter-widgets/base",
            "_view_module_version": "1.2.0",
            "_view_name": "LayoutView",
            "align_content": null,
            "align_items": null,
            "align_self": null,
            "border": null,
            "bottom": null,
            "display": null,
            "flex": null,
            "flex_flow": null,
            "grid_area": null,
            "grid_auto_columns": null,
            "grid_auto_flow": null,
            "grid_auto_rows": null,
            "grid_column": null,
            "grid_gap": null,
            "grid_row": null,
            "grid_template_areas": null,
            "grid_template_columns": null,
            "grid_template_rows": null,
            "height": null,
            "justify_content": null,
            "justify_items": null,
            "left": null,
            "margin": null,
            "max_height": null,
            "max_width": null,
            "min_height": null,
            "min_width": null,
            "object_fit": null,
            "object_position": null,
            "order": null,
            "overflow": null,
            "overflow_x": null,
            "overflow_y": null,
            "padding": null,
            "right": null,
            "top": null,
            "visibility": null,
            "width": null
          }
        },
        "a5dfd05d0d304361b8c6f26f792e6ec2": {
          "model_module": "@jupyter-widgets/controls",
          "model_name": "ProgressStyleModel",
          "model_module_version": "1.5.0",
          "state": {
            "_model_module": "@jupyter-widgets/controls",
            "_model_module_version": "1.5.0",
            "_model_name": "ProgressStyleModel",
            "_view_count": null,
            "_view_module": "@jupyter-widgets/base",
            "_view_module_version": "1.2.0",
            "_view_name": "StyleView",
            "bar_color": null,
            "description_width": ""
          }
        },
        "d8461eab4e4e46d2bca88ab0666d0040": {
          "model_module": "@jupyter-widgets/base",
          "model_name": "LayoutModel",
          "model_module_version": "1.2.0",
          "state": {
            "_model_module": "@jupyter-widgets/base",
            "_model_module_version": "1.2.0",
            "_model_name": "LayoutModel",
            "_view_count": null,
            "_view_module": "@jupyter-widgets/base",
            "_view_module_version": "1.2.0",
            "_view_name": "LayoutView",
            "align_content": null,
            "align_items": null,
            "align_self": null,
            "border": null,
            "bottom": null,
            "display": null,
            "flex": null,
            "flex_flow": null,
            "grid_area": null,
            "grid_auto_columns": null,
            "grid_auto_flow": null,
            "grid_auto_rows": null,
            "grid_column": null,
            "grid_gap": null,
            "grid_row": null,
            "grid_template_areas": null,
            "grid_template_columns": null,
            "grid_template_rows": null,
            "height": null,
            "justify_content": null,
            "justify_items": null,
            "left": null,
            "margin": null,
            "max_height": null,
            "max_width": null,
            "min_height": null,
            "min_width": null,
            "object_fit": null,
            "object_position": null,
            "order": null,
            "overflow": null,
            "overflow_x": null,
            "overflow_y": null,
            "padding": null,
            "right": null,
            "top": null,
            "visibility": null,
            "width": null
          }
        },
        "33c88da959574636bd11629cb361f2b8": {
          "model_module": "@jupyter-widgets/controls",
          "model_name": "DescriptionStyleModel",
          "model_module_version": "1.5.0",
          "state": {
            "_model_module": "@jupyter-widgets/controls",
            "_model_module_version": "1.5.0",
            "_model_name": "DescriptionStyleModel",
            "_view_count": null,
            "_view_module": "@jupyter-widgets/base",
            "_view_module_version": "1.2.0",
            "_view_name": "StyleView",
            "description_width": ""
          }
        }
      }
    }
  },
  "nbformat": 4,
  "nbformat_minor": 0
}