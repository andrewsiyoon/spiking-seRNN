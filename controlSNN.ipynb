{
  "nbformat": 4,
  "nbformat_minor": 0,
  "metadata": {
    "colab": {
      "provenance": [],
      "authorship_tag": "ABX9TyMA6sgXs5aSs/V/XU3JH5vR",
      "include_colab_link": true
    },
    "kernelspec": {
      "name": "python3",
      "display_name": "Python 3"
    },
    "language_info": {
      "name": "python"
    }
  },
  "cells": [
    {
      "cell_type": "markdown",
      "metadata": {
        "id": "view-in-github",
        "colab_type": "text"
      },
      "source": [
        "<a href=\"https://colab.research.google.com/github/andrewsiyoon/spiking-seRNN/blob/main/controlSNN.ipynb\" target=\"_parent\"><img src=\"https://colab.research.google.com/assets/colab-badge.svg\" alt=\"Open In Colab\"/></a>"
      ]
    },
    {
      "cell_type": "code",
      "source": [
        "pip install snntorch"
      ],
      "metadata": {
        "colab": {
          "base_uri": "https://localhost:8080/"
        },
        "id": "d8Sebye_-9KV",
        "outputId": "eec71a79-ab3f-441f-aaa5-a0284a83e716"
      },
      "execution_count": 1,
      "outputs": [
        {
          "output_type": "stream",
          "name": "stdout",
          "text": [
            "Looking in indexes: https://pypi.org/simple, https://us-python.pkg.dev/colab-wheels/public/simple/\n",
            "Collecting snntorch\n",
            "  Downloading snntorch-0.5.3-py2.py3-none-any.whl (95 kB)\n",
            "\u001b[2K     \u001b[90m━━━━━━━━━━━━━━━━━━━━━━━━━━━━━━━━━━━━━━━━\u001b[0m \u001b[32m95.5/95.5 KB\u001b[0m \u001b[31m2.3 MB/s\u001b[0m eta \u001b[36m0:00:00\u001b[0m\n",
            "\u001b[?25hRequirement already satisfied: numpy>=1.17 in /usr/local/lib/python3.8/dist-packages (from snntorch) (1.21.6)\n",
            "Requirement already satisfied: pandas in /usr/local/lib/python3.8/dist-packages (from snntorch) (1.3.5)\n",
            "Requirement already satisfied: torch>=1.1.0 in /usr/local/lib/python3.8/dist-packages (from snntorch) (1.13.1+cu116)\n",
            "Requirement already satisfied: matplotlib in /usr/local/lib/python3.8/dist-packages (from snntorch) (3.2.2)\n",
            "Requirement already satisfied: typing-extensions in /usr/local/lib/python3.8/dist-packages (from torch>=1.1.0->snntorch) (4.4.0)\n",
            "Requirement already satisfied: kiwisolver>=1.0.1 in /usr/local/lib/python3.8/dist-packages (from matplotlib->snntorch) (1.4.4)\n",
            "Requirement already satisfied: pyparsing!=2.0.4,!=2.1.2,!=2.1.6,>=2.0.1 in /usr/local/lib/python3.8/dist-packages (from matplotlib->snntorch) (3.0.9)\n",
            "Requirement already satisfied: python-dateutil>=2.1 in /usr/local/lib/python3.8/dist-packages (from matplotlib->snntorch) (2.8.2)\n",
            "Requirement already satisfied: cycler>=0.10 in /usr/local/lib/python3.8/dist-packages (from matplotlib->snntorch) (0.11.0)\n",
            "Requirement already satisfied: pytz>=2017.3 in /usr/local/lib/python3.8/dist-packages (from pandas->snntorch) (2022.7)\n",
            "Requirement already satisfied: six>=1.5 in /usr/local/lib/python3.8/dist-packages (from python-dateutil>=2.1->matplotlib->snntorch) (1.15.0)\n",
            "Installing collected packages: snntorch\n",
            "Successfully installed snntorch-0.5.3\n"
          ]
        }
      ]
    },
    {
      "cell_type": "code",
      "execution_count": 2,
      "metadata": {
        "id": "7oiifH_5-8S5"
      },
      "outputs": [],
      "source": [
        "#Imports -----\n",
        "\n",
        "import torch, torch.nn as nn\n",
        "import snntorch as snn"
      ]
    },
    {
      "cell_type": "code",
      "source": [
        "#Dataloading -----\n",
        "\n",
        "batch_size = 128\n",
        "data_path='/data/mnist'\n",
        "dtype = torch.float\n",
        "device = torch.device(\"cuda\") if torch.cuda.is_available() else torch.device(\"cpu\")"
      ],
      "metadata": {
        "id": "ahkMobNK-_SL"
      },
      "execution_count": 3,
      "outputs": []
    },
    {
      "cell_type": "code",
      "source": [
        "from torch.utils.data import DataLoader\n",
        "from torchvision import datasets, transforms\n",
        "\n",
        "transform = transforms.Compose([\n",
        "            transforms.Resize((28, 28)),\n",
        "            transforms.Grayscale(),\n",
        "            transforms.ToTensor(),\n",
        "            transforms.Normalize((0,), (1,))])\n",
        "\n",
        "mnist_train = datasets.MNIST(data_path, train=True, download=True, transform=transform)\n",
        "mnist_test = datasets.MNIST(data_path, train=False, download=True, transform=transform)\n",
        "\n",
        "train_loader = DataLoader(mnist_train, batch_size=batch_size, shuffle=True)\n",
        "test_loader = DataLoader(mnist_test, batch_size=batch_size, shuffle=True)"
      ],
      "metadata": {
        "id": "VsWRymty_A9S"
      },
      "execution_count": 9,
      "outputs": []
    },
    {
      "cell_type": "code",
      "source": [
        "#Define network -----\n",
        "\n",
        "from snntorch import surrogate\n",
        "import torch.nn.functional as F\n",
        "\n",
        "#Define Network\n",
        "class Net(nn.Module):\n",
        "    def __init__(self):\n",
        "        super().__init__()\n",
        "\n",
        "        num_inputs = 784\n",
        "        num_hidden = 1000\n",
        "        num_outputs = 10\n",
        "        spike_grad = surrogate.fast_sigmoid()\n",
        "\n",
        "        #Heterogeneous membrane time constants: [0, 1)\n",
        "        beta1 = torch.rand((num_hidden), dtype = torch.float)\n",
        "        beta2 = torch.rand((num_outputs), dtype = torch.float) #.to(device)\n",
        "\n",
        "        #Initialize layers\n",
        "        self.fc1 = nn.Linear(num_inputs, num_hidden)\n",
        "        self.lif1 = snn.Leaky(beta=beta1, spike_grad=spike_grad, learn_beta=True)\n",
        "        self.fc2 = nn.Linear(num_hidden, num_outputs)\n",
        "        self.lif2 = snn.Leaky(beta=beta2, spike_grad=spike_grad,learn_beta=True)\n",
        "\n",
        "    def forward(self, x):\n",
        "\n",
        "        #Initialize hidden states and outputs\n",
        "        mem1 = self.lif1.init_leaky()\n",
        "        mem2 = self.lif2.init_leaky()\n",
        "\n",
        "        #Record the final layer\n",
        "        spk2_rec = []\n",
        "        mem2_rec = []\n",
        "\n",
        "        for step in range(num_steps):\n",
        "            cur1 = self.fc1(x.flatten(1))\n",
        "            spk1, mem1 = self.lif1(cur1, mem1)\n",
        "            cur2 = self.fc2(spk1)\n",
        "            spk2, mem2 = self.lif2(cur2, mem2)\n",
        "\n",
        "            spk2_rec.append(spk2)\n",
        "            mem2_rec.append(mem2)\n",
        "\n",
        "        return torch.stack(spk2_rec), torch.stack(mem2_rec)\n",
        "\n",
        "# Load the network onto CUDA if available\n",
        "net = Net().to(device)"
      ],
      "metadata": {
        "id": "-U3X1b5h_FwB"
      },
      "execution_count": 10,
      "outputs": []
    },
    {
      "cell_type": "code",
      "source": [
        "#Optimizer and loss function -----\n",
        "import snntorch.functional as SF\n",
        "\n",
        "optimizer = torch.optim.Adam(net.parameters(), lr = 2e-3, betas = (0.9, 0.999))\n",
        "loss_fn = SF.mse_count_loss(correct_rate = 0.75, incorrect_rate = 0.25)"
      ],
      "metadata": {
        "id": "Nwwb-Cr__T5a"
      },
      "execution_count": 11,
      "outputs": []
    },
    {
      "cell_type": "code",
      "source": [
        "#Training loop -----\n",
        "num_epochs = 2\n",
        "num_steps = 25  \n",
        "\n",
        "loss_hist = []\n",
        "acc_hist = []\n",
        "\n",
        "for epoch in range(num_epochs):\n",
        "    for i, (data, targets) in enumerate(iter(train_loader)):\n",
        "        data = data.to(device)\n",
        "        targets = targets.to(device)\n",
        "\n",
        "        #Train the network\n",
        "        net.train()\n",
        "        spk_rec, _ = net(data) #spk_rec = \"outputs\" in other documents\n",
        "\n",
        "        reg_loss = 1e-5*torch.sum(spk_rec) #L1 loss on total number of spikes\n",
        "        loss_val = loss_fn(spk_rec, targets) + reg_loss\n",
        "\n",
        "        #Gradient calculation + weight update\n",
        "        optimizer.zero_grad()\n",
        "        loss_val.backward()\n",
        "        optimizer.step()\n",
        "\n",
        "        #Store loss history\n",
        "        loss_hist.append(loss_val.item())\n",
        "\n",
        "        # print every 25 iterations\n",
        "        if i % 25 == 0:\n",
        "          net.eval()\n",
        "          print(f\"Epoch {epoch}, Iteration {i} \\nTrain Loss: {loss_val.item():.2f}\")\n",
        "\n",
        "          # check accuracy on a single batch\n",
        "          acc = SF.accuracy_rate(spk_rec, targets)\n",
        "          acc_hist.append(acc)\n",
        "          print(f\"Accuracy: {acc * 100:.2f}%\\n\")"
      ],
      "metadata": {
        "colab": {
          "base_uri": "https://localhost:8080/"
        },
        "id": "Bh3o_i8F_WAJ",
        "outputId": "7d04acc2-03c1-4197-91ee-7abee009c0ea"
      },
      "execution_count": 12,
      "outputs": [
        {
          "output_type": "stream",
          "name": "stdout",
          "text": [
            "Epoch 0, Iteration 0 \n",
            "Train Loss: 2.57\n",
            "Accuracy: 3.12%\n",
            "\n",
            "Epoch 0, Iteration 25 \n",
            "Train Loss: 0.53\n",
            "Accuracy: 56.25%\n",
            "\n",
            "Epoch 0, Iteration 50 \n",
            "Train Loss: 0.35\n",
            "Accuracy: 82.03%\n",
            "\n",
            "Epoch 0, Iteration 75 \n",
            "Train Loss: 0.28\n",
            "Accuracy: 85.16%\n",
            "\n",
            "Epoch 0, Iteration 100 \n",
            "Train Loss: 0.25\n",
            "Accuracy: 89.06%\n",
            "\n",
            "Epoch 0, Iteration 125 \n",
            "Train Loss: 0.23\n",
            "Accuracy: 93.75%\n",
            "\n",
            "Epoch 0, Iteration 150 \n",
            "Train Loss: 0.25\n",
            "Accuracy: 89.06%\n",
            "\n",
            "Epoch 0, Iteration 175 \n",
            "Train Loss: 0.21\n",
            "Accuracy: 93.75%\n",
            "\n",
            "Epoch 0, Iteration 200 \n",
            "Train Loss: 0.22\n",
            "Accuracy: 93.75%\n",
            "\n",
            "Epoch 0, Iteration 225 \n",
            "Train Loss: 0.24\n",
            "Accuracy: 88.28%\n",
            "\n",
            "Epoch 0, Iteration 250 \n",
            "Train Loss: 0.21\n",
            "Accuracy: 88.28%\n",
            "\n",
            "Epoch 0, Iteration 275 \n",
            "Train Loss: 0.25\n",
            "Accuracy: 92.19%\n",
            "\n",
            "Epoch 0, Iteration 300 \n",
            "Train Loss: 0.21\n",
            "Accuracy: 92.19%\n",
            "\n",
            "Epoch 0, Iteration 325 \n",
            "Train Loss: 0.17\n",
            "Accuracy: 95.31%\n",
            "\n",
            "Epoch 0, Iteration 350 \n",
            "Train Loss: 0.19\n",
            "Accuracy: 93.75%\n",
            "\n",
            "Epoch 0, Iteration 375 \n",
            "Train Loss: 0.19\n",
            "Accuracy: 91.41%\n",
            "\n",
            "Epoch 0, Iteration 400 \n",
            "Train Loss: 0.19\n",
            "Accuracy: 95.31%\n",
            "\n",
            "Epoch 0, Iteration 425 \n",
            "Train Loss: 0.19\n",
            "Accuracy: 94.53%\n",
            "\n",
            "Epoch 0, Iteration 450 \n",
            "Train Loss: 0.17\n",
            "Accuracy: 96.88%\n",
            "\n",
            "Epoch 1, Iteration 0 \n",
            "Train Loss: 0.17\n",
            "Accuracy: 92.97%\n",
            "\n",
            "Epoch 1, Iteration 25 \n",
            "Train Loss: 0.19\n",
            "Accuracy: 92.97%\n",
            "\n",
            "Epoch 1, Iteration 50 \n",
            "Train Loss: 0.22\n",
            "Accuracy: 91.41%\n",
            "\n",
            "Epoch 1, Iteration 75 \n",
            "Train Loss: 0.23\n",
            "Accuracy: 96.88%\n",
            "\n",
            "Epoch 1, Iteration 100 \n",
            "Train Loss: 0.17\n",
            "Accuracy: 96.88%\n",
            "\n",
            "Epoch 1, Iteration 125 \n",
            "Train Loss: 0.16\n",
            "Accuracy: 95.31%\n",
            "\n",
            "Epoch 1, Iteration 150 \n",
            "Train Loss: 0.13\n",
            "Accuracy: 98.44%\n",
            "\n",
            "Epoch 1, Iteration 175 \n",
            "Train Loss: 0.19\n",
            "Accuracy: 92.97%\n",
            "\n",
            "Epoch 1, Iteration 200 \n",
            "Train Loss: 0.18\n",
            "Accuracy: 93.75%\n",
            "\n",
            "Epoch 1, Iteration 225 \n",
            "Train Loss: 0.18\n",
            "Accuracy: 94.53%\n",
            "\n",
            "Epoch 1, Iteration 250 \n",
            "Train Loss: 0.16\n",
            "Accuracy: 96.88%\n",
            "\n",
            "Epoch 1, Iteration 275 \n",
            "Train Loss: 0.16\n",
            "Accuracy: 95.31%\n",
            "\n",
            "Epoch 1, Iteration 300 \n",
            "Train Loss: 0.17\n",
            "Accuracy: 95.31%\n",
            "\n",
            "Epoch 1, Iteration 325 \n",
            "Train Loss: 0.16\n",
            "Accuracy: 96.88%\n",
            "\n",
            "Epoch 1, Iteration 350 \n",
            "Train Loss: 0.16\n",
            "Accuracy: 94.53%\n",
            "\n",
            "Epoch 1, Iteration 375 \n",
            "Train Loss: 0.17\n",
            "Accuracy: 93.75%\n",
            "\n",
            "Epoch 1, Iteration 400 \n",
            "Train Loss: 0.17\n",
            "Accuracy: 95.31%\n",
            "\n",
            "Epoch 1, Iteration 425 \n",
            "Train Loss: 0.16\n",
            "Accuracy: 92.97%\n",
            "\n",
            "Epoch 1, Iteration 450 \n",
            "Train Loss: 0.17\n",
            "Accuracy: 95.31%\n",
            "\n"
          ]
        }
      ]
    },
    {
      "cell_type": "code",
      "source": [
        "print(spk_rec.size())"
      ],
      "metadata": {
        "colab": {
          "base_uri": "https://localhost:8080/"
        },
        "id": "6T7PxxqzArML",
        "outputId": "fb64507e-7906-4cb0-b5e3-0e38fafbff03"
      },
      "execution_count": 15,
      "outputs": [
        {
          "output_type": "stream",
          "name": "stdout",
          "text": [
            "torch.Size([25, 96, 10])\n"
          ]
        }
      ]
    }
  ]
}