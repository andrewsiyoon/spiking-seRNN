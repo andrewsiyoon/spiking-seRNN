{
  "cells": [
    {
      "cell_type": "markdown",
      "metadata": {
        "id": "view-in-github",
        "colab_type": "text"
      },
      "source": [
        "<a href=\"https://colab.research.google.com/github/andrewsiyoon/spiking-seRNN/blob/main/seRSNN_SHD_implementation.ipynb\" target=\"_parent\"><img src=\"https://colab.research.google.com/assets/colab-badge.svg\" alt=\"Open In Colab\"/></a>"
      ]
    },
    {
      "cell_type": "markdown",
      "metadata": {
        "id": "J07rfrwQlSC0"
      },
      "source": [
        "#**seRSNN: How to spatially-embed a recurrent spiking neural network**\n",
        "In this notebook, we demonstrate how to spatially-embed a recurrent spiking neural network and train it on a classic neuromorphic classification task for spiking models. We hope to provide this framework, which applies biologically-inspired spatial and communicability constraints to RSNNs, for open-access use by researchers in the field."
      ]
    },
    {
      "cell_type": "code",
      "execution_count": 1,
      "metadata": {
        "colab": {
          "base_uri": "https://localhost:8080/"
        },
        "id": "Quq3SNfgkLxj",
        "outputId": "83d8574b-594a-4ff6-e023-8a5425a25686"
      },
      "outputs": [
        {
          "output_type": "stream",
          "name": "stdout",
          "text": [
            "\u001b[2K     \u001b[90m━━━━━━━━━━━━━━━━━━━━━━━━━━━━━━━━━━━━━━━\u001b[0m \u001b[32m104.8/104.8 kB\u001b[0m \u001b[31m2.2 MB/s\u001b[0m eta \u001b[36m0:00:00\u001b[0m\n",
            "\u001b[2K     \u001b[90m━━━━━━━━━━━━━━━━━━━━━━━━━━━━━━━━━━━━━━━\u001b[0m \u001b[32m104.1/104.1 kB\u001b[0m \u001b[31m1.3 MB/s\u001b[0m eta \u001b[36m0:00:00\u001b[0m\n",
            "\u001b[2K     \u001b[90m━━━━━━━━━━━━━━━━━━━━━━━━━━━━━━━━━━━━━━━━\u001b[0m \u001b[32m50.4/50.4 kB\u001b[0m \u001b[31m1.7 MB/s\u001b[0m eta \u001b[36m0:00:00\u001b[0m\n",
            "\u001b[2K     \u001b[90m━━━━━━━━━━━━━━━━━━━━━━━━━━━━━━━━━━━━━━━\u001b[0m \u001b[32m112.7/112.7 kB\u001b[0m \u001b[31m4.8 MB/s\u001b[0m eta \u001b[36m0:00:00\u001b[0m\n",
            "\u001b[?25h  Preparing metadata (setup.py) ... \u001b[?25l\u001b[?25hdone\n",
            "  Building wheel for importRosbag (setup.py) ... \u001b[?25l\u001b[?25hdone\n",
            "\u001b[2K     \u001b[90m━━━━━━━━━━━━━━━━━━━━━━━━━━━━━━━━━━━━━━━━\u001b[0m \u001b[32m1.6/1.6 MB\u001b[0m \u001b[31m63.2 MB/s\u001b[0m eta \u001b[36m0:00:00\u001b[0m\n",
            "\u001b[2K     \u001b[90m━━━━━━━━━━━━━━━━━━━━━━━━━━━━━━━━━━━━━━━━\u001b[0m \u001b[32m95.7/95.7 kB\u001b[0m \u001b[31m11.5 MB/s\u001b[0m eta \u001b[36m0:00:00\u001b[0m\n",
            "\u001b[?25h  Preparing metadata (setup.py) ... \u001b[?25l\u001b[?25hdone\n",
            "  Building wheel for bctpy (setup.py) ... \u001b[?25l\u001b[?25hdone\n",
            "time: 5.34 s (started: 2023-04-11 16:05:01 +00:00)\n"
          ]
        }
      ],
      "source": [
        "#Install packages -----\n",
        "\n",
        "'''\n",
        "snnTorch is a package that provides gradient-based learning for spiking neural networks and integrates various spiking neuron models with the PyTorch framework.\n",
        "Tonic is a package designed specifically for downloading, extracting, and manipulating various neuromorphic datasets.\n",
        "'''\n",
        "\n",
        "!pip install -q 'snntorch == 0.6.1'\n",
        "!pip install -q 'tonic == 1.2.5'\n",
        "!pip install -q ipython-autotime\n",
        "%load_ext autotime\n",
        "!pip install -q bctpy"
      ]
    },
    {
      "cell_type": "code",
      "execution_count": 2,
      "metadata": {
        "colab": {
          "base_uri": "https://localhost:8080/"
        },
        "id": "6lrVrUp7kV-Y",
        "outputId": "a1696ddb-8ab9-4ff2-ab12-21c2fbb2d999"
      },
      "outputs": [
        {
          "output_type": "stream",
          "name": "stdout",
          "text": [
            "time: 9.89 s (started: 2023-04-11 16:05:07 +00:00)\n"
          ]
        }
      ],
      "source": [
        "#Import packages -----\n",
        "\n",
        "import torch, torch.nn as nn\n",
        "from torch.utils.data import DataLoader\n",
        "\n",
        "import snntorch as snn\n",
        "from snntorch import surrogate\n",
        "import snntorch.functional as SF\n",
        "\n",
        "import numpy as np\n",
        "\n",
        "import scipy\n",
        "from scipy.stats import pearsonr\n",
        "\n",
        "import tonic\n",
        "import tonic.transforms as transforms\n",
        "from tonic import DiskCachedDataset\n",
        "\n",
        "import random\n",
        "\n",
        "import matplotlib.pyplot as plt\n",
        "from matplotlib.gridspec import GridSpec\n",
        "\n",
        "import seaborn as sns\n",
        "import pandas as pd\n",
        "\n",
        "import bct"
      ]
    },
    {
      "cell_type": "code",
      "execution_count": 3,
      "metadata": {
        "colab": {
          "base_uri": "https://localhost:8080/"
        },
        "id": "YJkyDfodkXzl",
        "outputId": "9c6e78bf-d274-49ea-d903-1a6cfa9ae750"
      },
      "outputs": [
        {
          "output_type": "execute_result",
          "data": {
            "text/plain": [
              "<torch._C.Generator at 0x7fe934327590>"
            ]
          },
          "metadata": {},
          "execution_count": 3
        },
        {
          "output_type": "stream",
          "name": "stdout",
          "text": [
            "time: 6.25 ms (started: 2023-04-11 16:05:17 +00:00)\n"
          ]
        }
      ],
      "source": [
        "#Set random seeds -----\n",
        "\n",
        "np.random.seed(180139)\n",
        "torch.manual_seed(347932)"
      ]
    },
    {
      "cell_type": "markdown",
      "metadata": {
        "id": "ZI34npkQkfDz"
      },
      "source": [
        "## Preparing the SHD dataset"
      ]
    },
    {
      "cell_type": "code",
      "execution_count": 4,
      "metadata": {
        "colab": {
          "base_uri": "https://localhost:8080/",
          "height": 170,
          "referenced_widgets": [
            "e6a4d40b1f6f4d3caf25394670fb93b0",
            "2135b7e6a7da4f8b8271a9b3fd9746ba",
            "7507930fced04d44a43f2bfb00efd0ae",
            "1823b259a9fb46de8e5c137adfea7db9",
            "bd9b77b68a5846f4aeb1576577e4f5bd",
            "08a307cb19d3433cb0a5c8c207f17bee",
            "6d74ef61ed4c453794201ce246c04a3f",
            "8d843b85f9b64535901764077333c61c",
            "a869e82c1f55435d98b2fcba8785ed67",
            "2ce290ba1f2c49fabf969b20c0b876b5",
            "5314ea8f75ca43289537e893de26b68b",
            "a99fcee28b2545d0a152dd1bf1f121b4",
            "720cc69202e149bd89e4ee47e8ae8bf3",
            "924a85a43bef41f5881cb4d65f7f2427",
            "60eacd96b610467a8732ece70eb37e3d",
            "8d3d837952d24cc0968ed69b8f17afde",
            "c90ed28ce7064b208b6d2ef247bed9c0",
            "bf96a0d25a5e44b28c5b63fc6ab67a05",
            "ee452e88ea5044e8b04053acc52cc80a",
            "b01a1cc6b33549a1b290dd077351f13f",
            "224f5632e77a45bf9b4922d4ed63c212",
            "803ada8e322b4f6cab9531f275ca1ca3"
          ]
        },
        "id": "n6tAWMfdkdKE",
        "outputId": "5874a48a-7920-4b18-a659-634451093345"
      },
      "outputs": [
        {
          "output_type": "stream",
          "name": "stdout",
          "text": [
            "Downloading https://zenkelab.org/datasets/shd_train.h5.zip to ./data/SHD/shd_train.h5.zip\n"
          ]
        },
        {
          "output_type": "display_data",
          "data": {
            "text/plain": [
              "  0%|          | 0/130863613 [00:00<?, ?it/s]"
            ],
            "application/vnd.jupyter.widget-view+json": {
              "version_major": 2,
              "version_minor": 0,
              "model_id": "e6a4d40b1f6f4d3caf25394670fb93b0"
            }
          },
          "metadata": {}
        },
        {
          "output_type": "stream",
          "name": "stdout",
          "text": [
            "Extracting ./data/SHD/shd_train.h5.zip to ./data/SHD\n",
            "Downloading https://zenkelab.org/datasets/shd_test.h5.zip to ./data/SHD/shd_test.h5.zip\n"
          ]
        },
        {
          "output_type": "display_data",
          "data": {
            "text/plain": [
              "  0%|          | 0/38141465 [00:00<?, ?it/s]"
            ],
            "application/vnd.jupyter.widget-view+json": {
              "version_major": 2,
              "version_minor": 0,
              "model_id": "a99fcee28b2545d0a152dd1bf1f121b4"
            }
          },
          "metadata": {}
        },
        {
          "output_type": "stream",
          "name": "stdout",
          "text": [
            "Extracting ./data/SHD/shd_test.h5.zip to ./data/SHD\n",
            "time: 21.5 s (started: 2023-04-11 16:05:17 +00:00)\n"
          ]
        }
      ],
      "source": [
        "#Download and extract SHD dataset -----\n",
        "\n",
        "'''\n",
        "Parameters are adapted from the original SHD paper.\n",
        "'''\n",
        "\n",
        "#Define variables (batch size, sensor size)\n",
        "batch_size = 128\n",
        "device = torch.device(\"cuda\") if torch.cuda.is_available() else torch.device(\"cpu\")\n",
        "sensor_size = tonic.datasets.SHD.sensor_size\n",
        "\n",
        "#Define transformations\n",
        "frame_transform = transforms.Compose([transforms.ToFrame(sensor_size=sensor_size, n_time_bins = 200), transforms.DropEvent(p = 0.001)])\n",
        "\n",
        "#Define training and test sets\n",
        "SHD_train = tonic.datasets.SHD(save_to='./data', transform=frame_transform, train=True)\n",
        "SHD_test = tonic.datasets.SHD(save_to='./data', transform=frame_transform, train=False)\n",
        "\n",
        "#Create dataloaders\n",
        "trainloader = DataLoader(SHD_train, batch_size=batch_size, collate_fn=tonic.collation.PadTensors(batch_first=False), shuffle = True, drop_last = True)\n",
        "testloader = DataLoader(SHD_test, batch_size=batch_size, collate_fn=tonic.collation.PadTensors(batch_first=False), shuffle = True, drop_last = True)"
      ]
    },
    {
      "cell_type": "markdown",
      "metadata": {
        "id": "F-Q1FZ8XlBWc"
      },
      "source": [
        "##Initialize membrane time constants"
      ]
    },
    {
      "cell_type": "code",
      "execution_count": 5,
      "metadata": {
        "colab": {
          "base_uri": "https://localhost:8080/"
        },
        "id": "_LTMzwvDlBE_",
        "outputId": "263bad65-d7ef-4010-903f-326dfc411786"
      },
      "outputs": [
        {
          "output_type": "stream",
          "name": "stdout",
          "text": [
            "time: 1.46 ms (started: 2023-04-11 16:05:38 +00:00)\n"
          ]
        }
      ],
      "source": [
        "#Initialize membrane time constant distribution -----\n",
        "\n",
        "'''\n",
        "This section defines two functions: a clipping function and an initialization function. Membrane parameters are taken from Perez-Nieves et al. in order to standardize network comparisons.\n",
        "'''\n",
        "\n",
        "#Membrane parameters\n",
        "tau_mem = 20e-3\n",
        "dist_shape = 3\n",
        "time_step = 0.5e-3\n",
        "\n",
        "#Clipping function\n",
        "def clip_tc(x):\n",
        "    clipped_tc = x.clamp_(0.7165, 0.995)\n",
        "    return clipped_tc\n",
        "\n",
        "#Initialize membrane time constant distribution\n",
        "def init_tc():\n",
        "    dist_gamma = np.random.gamma(dist_shape, tau_mem / 3, 100)\n",
        "    dist_beta = torch.from_numpy(np.exp(-time_step / dist_gamma))\n",
        "    clipped_beta = clip_tc(dist_beta)\n",
        "    return clipped_beta"
      ]
    },
    {
      "cell_type": "markdown",
      "metadata": {
        "id": "URxBDSQhlGnO"
      },
      "source": [
        "##Model architecture\n",
        "\n",
        "We define the recurrent spiking neural network in this section. The snnTorch package is used to instantiate unit neurons as recurrent LIF models (for the hidden layer) and LIF models (for the readout layer). PyTorch is used to create the linear connections between layers."
      ]
    },
    {
      "cell_type": "code",
      "execution_count": 6,
      "metadata": {
        "colab": {
          "base_uri": "https://localhost:8080/"
        },
        "id": "OLQ-7wG4lFyj",
        "outputId": "f2e3268d-a7f8-417b-bf0f-ca7216989164"
      },
      "outputs": [
        {
          "output_type": "stream",
          "name": "stdout",
          "text": [
            "time: 4.56 s (started: 2023-04-11 16:05:38 +00:00)\n"
          ]
        }
      ],
      "source": [
        "#Size parameters\n",
        "num_inputs = 700\n",
        "num_hidden = 100\n",
        "num_outputs = 20\n",
        "\n",
        "#Network parameters\n",
        "het_tau = init_tc().to(device)\n",
        "hom_tau = 0.9753\n",
        "\n",
        "#Optimization mechanism\n",
        "spike_grad = surrogate.fast_sigmoid(slope = 100)\n",
        "\n",
        "#Model definition\n",
        "class Net(nn.Module):\n",
        "    def __init__(self):\n",
        "        super().__init__()\n",
        "\n",
        "        #Initialize layers\n",
        "        self.fc1 = nn.Linear(num_inputs, num_hidden)\n",
        "        self.lif1 = snn.RLeaky(beta = het_tau, linear_features = num_hidden, learn_beta = True, spike_grad = spike_grad)\n",
        "        self.fc2 = nn.Linear(num_hidden, num_outputs)\n",
        "        self.lif2 = snn.Leaky(beta = hom_tau, spike_grad = spike_grad)\n",
        "\n",
        "    def forward(self, x):\n",
        "\n",
        "        #Initialize parameters\n",
        "        spk1, mem1 = self.lif1.init_rleaky()\n",
        "        mem2 = self.lif2.init_leaky()\n",
        "\n",
        "        #Record recurrent layer\n",
        "        spk1_rec = []\n",
        "        mem1_rec = []\n",
        "\n",
        "        #Record readout layer\n",
        "        spk2_rec = []\n",
        "        mem2_rec = []\n",
        "        \n",
        "        #Forward loop\n",
        "        for step in range(data.size(0)):\n",
        "            batched_data = data[step].view(batch_size, num_inputs)\n",
        "            cur1 = self.fc1(batched_data)\n",
        "            spk1, mem1 = self.lif1(cur1, spk1, mem1)\n",
        "            cur2 = self.fc2(spk1)\n",
        "            spk2, mem2 = self.lif2(cur2, mem2)\n",
        "\n",
        "            #Save recurrent and readout data\n",
        "            spk1_rec.append(spk1)\n",
        "            mem1_rec.append(mem1)\n",
        "\n",
        "            spk2_rec.append(spk2)\n",
        "            mem2_rec.append(mem2)\n",
        "\n",
        "        #Convert saved data to tensors\n",
        "        spk1_rec = torch.stack(spk1_rec)\n",
        "        mem1_rec = torch.stack(mem1_rec)\n",
        "\n",
        "        spk2_rec = torch.stack(spk2_rec)\n",
        "        mem2_rec = torch.stack(mem2_rec)\n",
        "        \n",
        "        return spk2_rec, mem2_rec, spk1_rec, mem1_rec\n",
        "\n",
        "net = Net().to(device)"
      ]
    },
    {
      "cell_type": "markdown",
      "metadata": {
        "id": "k5xYwCncmFI5"
      },
      "source": []
    },
    {
      "cell_type": "code",
      "execution_count": 7,
      "metadata": {
        "colab": {
          "base_uri": "https://localhost:8080/"
        },
        "id": "3Bzsd4T0mISG",
        "outputId": "d5aea47a-6f56-4e4c-b2cc-b05a24070df0"
      },
      "outputs": [
        {
          "output_type": "stream",
          "name": "stdout",
          "text": [
            "time: 15.5 ms (started: 2023-04-11 16:05:43 +00:00)\n"
          ]
        }
      ],
      "source": [
        "#Extract membrane time constants (pre-training) -----\n",
        "\n",
        "tc_hist = []\n",
        "pretrain_tau = (-time_step / np.log(het_tau.cpu())) / 1e-3\n",
        "tc_hist.append(pretrain_tau.numpy())"
      ]
    },
    {
      "cell_type": "code",
      "execution_count": 8,
      "metadata": {
        "colab": {
          "base_uri": "https://localhost:8080/"
        },
        "id": "karLJOFXmPW0",
        "outputId": "9f0bf9ce-4671-4e59-b0b3-e9d2ed2cd1ac"
      },
      "outputs": [
        {
          "output_type": "stream",
          "name": "stdout",
          "text": [
            "time: 702 µs (started: 2023-04-11 16:05:43 +00:00)\n"
          ]
        }
      ],
      "source": [
        "#Optimizer and loss function -----\n",
        "\n",
        "optimizer = torch.optim.Adam(net.parameters(), lr = 1e-3, betas = (0.9, 0.999))\n",
        "loss_fn = SF.ce_max_membrane_loss()"
      ]
    },
    {
      "cell_type": "code",
      "execution_count": 9,
      "metadata": {
        "colab": {
          "base_uri": "https://localhost:8080/"
        },
        "id": "0C5LYyWjmU78",
        "outputId": "7402834e-13a8-41b8-e894-12d781a0e0a1"
      },
      "outputs": [
        {
          "output_type": "stream",
          "name": "stdout",
          "text": [
            "time: 2.74 ms (started: 2023-04-11 16:05:43 +00:00)\n"
          ]
        }
      ],
      "source": [
        "#Distance matrix -----\n",
        "network_structure = [5, 5, 4]\n",
        "distance_metric = 'euclidean'\n",
        "distance_power = 1\n",
        "\n",
        "#Define each dimension's neurons\n",
        "nx = np.arange(network_structure[0])\n",
        "ny = np.arange(network_structure[1])\n",
        "nz = np.arange(network_structure[2])\n",
        "\n",
        "#Create coordinate grid\n",
        "[x,y,z] = np.meshgrid(nx,ny,nz)\n",
        "coordinates = [x.ravel(),y.ravel(),z.ravel()]\n",
        "\n",
        "#Calculate Euclidean distance matrix\n",
        "euclidean_vector = scipy.spatial.distance.pdist(np.transpose(coordinates), metric=distance_metric)\n",
        "euclidean = scipy.spatial.distance.squareform(euclidean_vector**distance_power)\n",
        "distance_matrix = euclidean.astype('float64')\n",
        "\n",
        "#Create tensor from distance matrix\n",
        "distance_matrix = torch.from_numpy(distance_matrix).to(device)"
      ]
    },
    {
      "cell_type": "code",
      "execution_count": 10,
      "metadata": {
        "colab": {
          "base_uri": "https://localhost:8080/"
        },
        "id": "dYCkQga6mW1E",
        "outputId": "fa48328f-6f76-4d9c-a7eb-fecac51d3912"
      },
      "outputs": [
        {
          "output_type": "stream",
          "name": "stdout",
          "text": [
            "Initial, pre-training correlation between distance and weight matrices (should be approx. 0): -0.016351912685894438\n",
            "time: 15.7 ms (started: 2023-04-11 16:05:43 +00:00)\n"
          ]
        }
      ],
      "source": [
        "#Diagnostic tests -----\n",
        "\n",
        "#Test for spatial regularization\n",
        "def test_euclidean(x, y):\n",
        "    x = torch.abs(x)\n",
        "    x_array = x.detach().cpu().numpy()\n",
        "    flat_x_array = x_array.flatten()\n",
        "    y = torch.abs(y)\n",
        "    y_array = y.detach().cpu().numpy()\n",
        "    flat_y_array = y_array.flatten()\n",
        "    correlation = pearsonr(flat_x_array, flat_y_array)[0]\n",
        "    return correlation\n",
        "\n",
        "print(f\"Initial, pre-training correlation between distance and weight matrices (should be approx. 0): {test_euclidean(distance_matrix, net.lif1.recurrent.weight)}\")"
      ]
    },
    {
      "cell_type": "code",
      "execution_count": 11,
      "metadata": {
        "id": "KTSnOUIimZqq",
        "colab": {
          "base_uri": "https://localhost:8080/"
        },
        "outputId": "ad7fbec5-eaba-487f-8655-cd59e77a9d00"
      },
      "outputs": [
        {
          "output_type": "stream",
          "name": "stdout",
          "text": [
            "Epoch 1/50 === Train loss: 2.88 --- Spike accuracy: 11.72% --- Mem. potential accuracy: 5.95% --- Val. loss: 2.88 --- Val. accuracy: 5.24%\n",
            "\n",
            "Epoch 2/50 === Train loss: 2.94 --- Spike accuracy: 17.19% --- Mem. potential accuracy: 9.02% --- Val. loss: 2.91 --- Val. accuracy: 11.40%\n",
            "\n",
            "Epoch 3/50 === Train loss: 2.79 --- Spike accuracy: 10.16% --- Mem. potential accuracy: 10.53% --- Val. loss: 2.68 --- Val. accuracy: 8.59%\n",
            "\n",
            "Epoch 4/50 === Train loss: 2.49 --- Spike accuracy: 31.25% --- Mem. potential accuracy: 15.62% --- Val. loss: 2.60 --- Val. accuracy: 22.38%\n",
            "\n",
            "Epoch 5/50 === Train loss: 2.30 --- Spike accuracy: 25.00% --- Mem. potential accuracy: 23.92% --- Val. loss: 2.53 --- Val. accuracy: 29.18%\n",
            "\n",
            "Epoch 6/50 === Train loss: 1.85 --- Spike accuracy: 23.44% --- Mem. potential accuracy: 25.82% --- Val. loss: 2.39 --- Val. accuracy: 28.40%\n",
            "\n",
            "Epoch 7/50 === Train loss: 1.48 --- Spike accuracy: 25.00% --- Mem. potential accuracy: 35.85% --- Val. loss: 2.14 --- Val. accuracy: 42.37%\n",
            "\n",
            "Epoch 8/50 === Train loss: 1.44 --- Spike accuracy: 32.81% --- Mem. potential accuracy: 44.42% --- Val. loss: 1.40 --- Val. accuracy: 46.60%\n",
            "\n",
            "Epoch 9/50 === Train loss: 1.11 --- Spike accuracy: 27.34% --- Mem. potential accuracy: 47.07% --- Val. loss: 1.38 --- Val. accuracy: 51.61%\n",
            "\n",
            "Epoch 10/50 === Train loss: 0.97 --- Spike accuracy: 31.25% --- Mem. potential accuracy: 49.67% --- Val. loss: 2.00 --- Val. accuracy: 47.10%\n",
            "\n",
            "Epoch 11/50 === Train loss: 0.93 --- Spike accuracy: 28.12% --- Mem. potential accuracy: 51.49% --- Val. loss: 1.49 --- Val. accuracy: 50.41%\n",
            "\n",
            "Epoch 12/50 === Train loss: 1.11 --- Spike accuracy: 28.12% --- Mem. potential accuracy: 54.12% --- Val. loss: 1.35 --- Val. accuracy: 50.46%\n",
            "\n",
            "Epoch 13/50 === Train loss: 1.23 --- Spike accuracy: 25.78% --- Mem. potential accuracy: 54.48% --- Val. loss: 1.44 --- Val. accuracy: 49.17%\n",
            "\n",
            "Epoch 14/50 === Train loss: 0.96 --- Spike accuracy: 31.25% --- Mem. potential accuracy: 56.34% --- Val. loss: 1.35 --- Val. accuracy: 50.87%\n",
            "\n",
            "Epoch 15/50 === Train loss: 0.64 --- Spike accuracy: 28.91% --- Mem. potential accuracy: 57.75% --- Val. loss: 1.24 --- Val. accuracy: 53.86%\n",
            "\n",
            "Epoch 16/50 === Train loss: 0.90 --- Spike accuracy: 25.78% --- Mem. potential accuracy: 55.46% --- Val. loss: 1.16 --- Val. accuracy: 52.21%\n",
            "\n",
            "Epoch 17/50 === Train loss: 0.71 --- Spike accuracy: 32.81% --- Mem. potential accuracy: 56.77% --- Val. loss: 1.62 --- Val. accuracy: 46.32%\n",
            "\n",
            "Epoch 18/50 === Train loss: 0.76 --- Spike accuracy: 22.66% --- Mem. potential accuracy: 57.16% --- Val. loss: 1.81 --- Val. accuracy: 50.83%\n",
            "\n",
            "Epoch 19/50 === Train loss: 0.68 --- Spike accuracy: 32.81% --- Mem. potential accuracy: 55.84% --- Val. loss: 1.31 --- Val. accuracy: 54.60%\n",
            "\n",
            "Epoch 20/50 === Train loss: 0.78 --- Spike accuracy: 32.03% --- Mem. potential accuracy: 55.32% --- Val. loss: 1.28 --- Val. accuracy: 48.44%\n",
            "\n",
            "Epoch 21/50 === Train loss: 0.98 --- Spike accuracy: 21.09% --- Mem. potential accuracy: 54.68% --- Val. loss: 1.38 --- Val. accuracy: 50.87%\n",
            "\n",
            "Epoch 22/50 === Train loss: 0.64 --- Spike accuracy: 30.47% --- Mem. potential accuracy: 55.92% --- Val. loss: 1.69 --- Val. accuracy: 47.70%\n",
            "\n",
            "Epoch 23/50 === Train loss: 0.59 --- Spike accuracy: 30.47% --- Mem. potential accuracy: 56.67% --- Val. loss: 1.45 --- Val. accuracy: 48.35%\n",
            "\n",
            "Epoch 24/50 === Train loss: 0.55 --- Spike accuracy: 32.81% --- Mem. potential accuracy: 54.96% --- Val. loss: 1.27 --- Val. accuracy: 51.75%\n",
            "\n",
            "Epoch 25/50 === Train loss: 0.75 --- Spike accuracy: 21.88% --- Mem. potential accuracy: 57.61% --- Val. loss: 1.46 --- Val. accuracy: 51.24%\n",
            "\n",
            "Epoch 26/50 === Train loss: 0.65 --- Spike accuracy: 24.22% --- Mem. potential accuracy: 57.30% --- Val. loss: 1.57 --- Val. accuracy: 47.38%\n",
            "\n",
            "Epoch 27/50 === Train loss: 0.52 --- Spike accuracy: 35.16% --- Mem. potential accuracy: 57.95% --- Val. loss: 0.88 --- Val. accuracy: 51.38%\n",
            "\n",
            "Epoch 28/50 === Train loss: 0.64 --- Spike accuracy: 19.53% --- Mem. potential accuracy: 57.49% --- Val. loss: 1.15 --- Val. accuracy: 53.35%\n",
            "\n",
            "Epoch 29/50 === Train loss: 0.48 --- Spike accuracy: 25.78% --- Mem. potential accuracy: 58.54% --- Val. loss: 1.52 --- Val. accuracy: 52.16%\n",
            "\n",
            "Epoch 30/50 === Train loss: 0.66 --- Spike accuracy: 32.81% --- Mem. potential accuracy: 58.21% --- Val. loss: 1.40 --- Val. accuracy: 51.56%\n",
            "\n",
            "Epoch 31/50 === Train loss: 0.60 --- Spike accuracy: 30.47% --- Mem. potential accuracy: 58.35% --- Val. loss: 1.21 --- Val. accuracy: 53.58%\n",
            "\n",
            "Epoch 32/50 === Train loss: 0.45 --- Spike accuracy: 30.47% --- Mem. potential accuracy: 57.33% --- Val. loss: 1.66 --- Val. accuracy: 52.71%\n",
            "\n",
            "Epoch 33/50 === Train loss: 0.54 --- Spike accuracy: 32.81% --- Mem. potential accuracy: 57.47% --- Val. loss: 1.41 --- Val. accuracy: 53.49%\n",
            "\n",
            "Epoch 34/50 === Train loss: 0.68 --- Spike accuracy: 34.38% --- Mem. potential accuracy: 56.14% --- Val. loss: 1.29 --- Val. accuracy: 47.10%\n",
            "\n",
            "Epoch 35/50 === Train loss: 0.67 --- Spike accuracy: 38.28% --- Mem. potential accuracy: 56.31% --- Val. loss: 2.03 --- Val. accuracy: 47.29%\n",
            "\n",
            "Epoch 36/50 === Train loss: 0.38 --- Spike accuracy: 32.81% --- Mem. potential accuracy: 56.00% --- Val. loss: 1.45 --- Val. accuracy: 54.41%\n",
            "\n",
            "Epoch 37/50 === Train loss: 0.40 --- Spike accuracy: 30.47% --- Mem. potential accuracy: 56.76% --- Val. loss: 1.34 --- Val. accuracy: 53.31%\n",
            "\n",
            "Epoch 38/50 === Train loss: 0.48 --- Spike accuracy: 28.12% --- Mem. potential accuracy: 56.13% --- Val. loss: 1.09 --- Val. accuracy: 53.68%\n",
            "\n",
            "Epoch 39/50 === Train loss: 0.31 --- Spike accuracy: 38.28% --- Mem. potential accuracy: 57.69% --- Val. loss: 1.13 --- Val. accuracy: 52.39%\n",
            "\n",
            "Epoch 40/50 === Train loss: 0.37 --- Spike accuracy: 32.81% --- Mem. potential accuracy: 59.41% --- Val. loss: 1.32 --- Val. accuracy: 51.01%\n",
            "\n",
            "Epoch 41/50 === Train loss: 0.29 --- Spike accuracy: 28.91% --- Mem. potential accuracy: 58.40% --- Val. loss: 1.23 --- Val. accuracy: 53.35%\n",
            "\n",
            "Epoch 42/50 === Train loss: 0.42 --- Spike accuracy: 35.94% --- Mem. potential accuracy: 58.09% --- Val. loss: 1.07 --- Val. accuracy: 51.42%\n",
            "\n",
            "Epoch 43/50 === Train loss: 0.36 --- Spike accuracy: 42.19% --- Mem. potential accuracy: 59.02% --- Val. loss: 1.64 --- Val. accuracy: 53.81%\n",
            "\n",
            "Epoch 44/50 === Train loss: 0.28 --- Spike accuracy: 32.81% --- Mem. potential accuracy: 59.45% --- Val. loss: 1.57 --- Val. accuracy: 52.85%\n",
            "\n",
            "Epoch 45/50 === Train loss: 0.36 --- Spike accuracy: 34.38% --- Mem. potential accuracy: 59.66% --- Val. loss: 0.81 --- Val. accuracy: 55.15%\n",
            "\n",
            "Epoch 46/50 === Train loss: 0.19 --- Spike accuracy: 33.59% --- Mem. potential accuracy: 59.98% --- Val. loss: 1.38 --- Val. accuracy: 55.88%\n",
            "\n",
            "Epoch 47/50 === Train loss: 0.49 --- Spike accuracy: 36.72% --- Mem. potential accuracy: 59.38% --- Val. loss: 1.34 --- Val. accuracy: 53.81%\n",
            "\n",
            "Epoch 48/50 === Train loss: 0.26 --- Spike accuracy: 32.81% --- Mem. potential accuracy: 60.04% --- Val. loss: 0.95 --- Val. accuracy: 55.33%\n",
            "\n",
            "Epoch 49/50 === Train loss: 0.41 --- Spike accuracy: 34.38% --- Mem. potential accuracy: 59.05% --- Val. loss: 1.17 --- Val. accuracy: 56.11%\n",
            "\n",
            "Epoch 50/50 === Train loss: 0.36 --- Spike accuracy: 39.84% --- Mem. potential accuracy: 59.02% --- Val. loss: 1.08 --- Val. accuracy: 56.71%\n",
            "\n",
            "time: 1h 19min 58s (started: 2023-04-11 16:05:43 +00:00)\n"
          ]
        }
      ],
      "source": [
        "#Training parameters\n",
        "num_epochs = 50\n",
        "comms_factor = 1\n",
        "\n",
        "#Regularization parameters\n",
        "regu_strength = 1e-5\n",
        "\n",
        "#Initialize variables of interest\n",
        "train_loss_hist = []\n",
        "spk_acc_hist = []\n",
        "mem_acc_hist = []\n",
        "rec_tot_hist = []\n",
        "corr_hist = []\n",
        "test_acc_hist = []\n",
        "test_loss_hist = []\n",
        "\n",
        "#Initialize hidden/readout layer attributes\n",
        "spk_rec_hist = []\n",
        "mem_rec_hist = []\n",
        "spk_out_hist = []\n",
        "mem_out_hist = []\n",
        "\n",
        "#Pre-training extractions\n",
        "rec_tot_hist.append(torch.sum(torch.abs(net.lif1.recurrent.weight.detach())))\n",
        "corr_hist.append(test_euclidean(distance_matrix, net.lif1.recurrent.weight))\n",
        "\n",
        "#Training loop\n",
        "for epoch in range(1, num_epochs + 1):\n",
        "    correct_train = 0\n",
        "    total_train = 0\n",
        "    for i, (data, targets) in enumerate(iter(trainloader)):\n",
        "\n",
        "        #Load data on CUDA\n",
        "        data = data.to(device)\n",
        "        targets = targets.to(device)\n",
        "\n",
        "        #Set model to training mode\n",
        "        net.train()\n",
        "        spk_out, mem_out, spk_rec, mem_rec = net(data)\n",
        "\n",
        "        #Calculate loss\n",
        "        loss_val = loss_fn(mem_out, targets) \n",
        "\n",
        "        #Gradient calculation and weight updates\n",
        "        optimizer.zero_grad()\n",
        "        loss_val.backward()\n",
        "        optimizer.step()\n",
        "        #clip_tc(net.lif1.beta.detach())\n",
        "\n",
        "        #Save loss history\n",
        "        train_loss_hist.append(loss_val.item())\n",
        "\n",
        "        #New training accuracy\n",
        "        _, predicted_train = mem_out.sum(dim=0).max(1)\n",
        "        correct_train += (predicted_train == targets).sum().item()\n",
        "        total_train += targets.size(0)\n",
        "\n",
        "        #Save recurrent spikes/potentials\n",
        "        #sum_spk_rec = spk_rec.sum(0)\n",
        "        #sum_mem_rec = mem_rec.sum(0)\n",
        "        #summed_spk_rec = sum_spk_rec.sum(0)\n",
        "        #summed_mem_rec = sum_mem_rec.sum(0)\n",
        "\n",
        "        #spk_rec_hist.append(summed_spk_rec)\n",
        "        #mem_rec_hist.append(summed_mem_rec)\n",
        "\n",
        "        #Save readout spikes/potentials\n",
        "        #sum_spk_out = spk_out.sum(0)\n",
        "        #sum_mem_out = mem_out.sum(0)\n",
        "        #summed_spk_out = sum_spk_out.sum(0)\n",
        "        #summed_mem_out = sum_mem_out.sum(0)\n",
        "\n",
        "        #spk_out_hist.append(summed_spk_out)\n",
        "        #mem_out_hist.append(summed_mem_out)\n",
        "\n",
        "    #Evaluations (every epoch)\n",
        "    net.eval()\n",
        "\n",
        "    #Training accuracy (spike rate)\n",
        "    spk_acc = SF.accuracy_rate(spk_out, targets)\n",
        "    spk_acc_hist.append(spk_acc)\n",
        "\n",
        "    #Training accuracy (membrane potential)\n",
        "    mem_acc = correct_train/total_train\n",
        "    mem_acc_hist.append(mem_acc)\n",
        "\n",
        "    #Sum of recurrent weights\n",
        "    rec_tot = torch.sum(torch.abs(net.lif1.recurrent.weight.detach()))\n",
        "    rec_tot_hist.append(rec_tot)\n",
        "\n",
        "    #Correlation of distance and weight matrices\n",
        "    corr_matrix = test_euclidean(distance_matrix, net.lif1.recurrent.weight.detach())\n",
        "    corr_hist.append(corr_matrix)\n",
        "\n",
        "    #Save time constants\n",
        "    converted_tc = (-time_step / np.log(net.lif1.beta.detach().cpu())) / 1e-3\n",
        "    tc_hist.append(converted_tc.numpy())\n",
        "\n",
        "    #Validation accuracy\n",
        "    with torch.no_grad():\n",
        "        total = 0\n",
        "        correct = 0\n",
        "        net.eval()\n",
        "\n",
        "        for data, targets in iter(testloader):\n",
        "            data = data.to(device)\n",
        "            targets = targets.to(device)\n",
        "\n",
        "            test_spk, test_mem, _, _ = net(data)\n",
        "            _, predicted = test_mem.sum(dim=0).max(1)\n",
        "            total += targets.size(0)\n",
        "            correct += (predicted == targets).sum().item()\n",
        "            test_loss = loss_fn(test_mem, targets)\n",
        "\n",
        "        test_acc_hist.append(correct / total)\n",
        "        test_loss_hist.append(test_loss.item())\n",
        "\n",
        "    #Print statements\n",
        "    if epoch % 1 == 0:\n",
        "        print(f\"Epoch {epoch}/{num_epochs} === Train loss: {loss_val.item():.2f} --- \", end = \"\")\n",
        "        print(f\"Spike accuracy: {spk_acc * 100:.2f}% --- \", end = \"\")\n",
        "        print(f\"Mem. potential accuracy: {mem_acc * 100:.2f}% --- \", end = \"\")\n",
        "        print(f\"Val. loss: {test_loss.item():.2f} --- \", end = \"\")\n",
        "        print(f\"Val. accuracy: {100 * correct / total:.2f}%\\n\")"
      ]
    },
    {
      "cell_type": "code",
      "source": [
        "#Training accuracy\n",
        "plt.figure(figsize=(3.3,2),dpi=150)\n",
        "#spk_acc_hist.insert(0, 0)\n",
        "#mem_acc_hist.insert(0, 0)\n",
        "plt.plot(spk_acc_hist, color = '#ff1f5b', label = 'Spike rate')\n",
        "plt.plot(mem_acc_hist, color = '#009ade', label = 'Potential')\n",
        "plt.legend(loc = 'upper left', fontsize=6)\n",
        "plt.xlabel('Epoch', fontsize = 8)\n",
        "plt.ylabel('Training accuracy', fontsize = 8)\n",
        "plt.tick_params(axis='both', labelsize=6)\n",
        "plt.title('Accuracy over training epochs', fontsize = 9, pad = 10);"
      ],
      "metadata": {
        "colab": {
          "base_uri": "https://localhost:8080/",
          "height": 385
        },
        "id": "-BFDPY6wX7En",
        "outputId": "20d0d5fb-de41-4854-f4bc-420be9f0d23c"
      },
      "execution_count": 17,
      "outputs": [
        {
          "output_type": "display_data",
          "data": {
            "text/plain": [
              "<Figure size 495x300 with 1 Axes>"
            ],
            "image/png": "[encoded data removed]"
          },
          "metadata": {}
        },
        {
          "output_type": "stream",
          "name": "stdout",
          "text": [
            "time: 651 ms (started: 2023-04-11 17:35:53 +00:00)\n"
          ]
        }
      ]
    },
    {
      "cell_type": "code",
      "source": [
        "#Validation accuracy\n",
        "plt.figure(figsize=(3.3,2),dpi=150)\n",
        "plt.plot(test_acc_hist, color = '#ff1f5b')\n",
        "plt.xlabel('Epoch', fontsize = 8)\n",
        "plt.ylabel('Validation accuracy', fontsize = 8)\n",
        "plt.tick_params(axis='both', labelsize=6)\n",
        "plt.title('Validation accuracy', fontsize = 9, pad = 10);"
      ],
      "metadata": {
        "colab": {
          "base_uri": "https://localhost:8080/",
          "height": 385
        },
        "id": "5_m3dTKKY6Jj",
        "outputId": "ac3d4fb0-23b9-45a0-f215-53b154a5f981"
      },
      "execution_count": 18,
      "outputs": [
        {
          "output_type": "display_data",
          "data": {
            "text/plain": [
              "<Figure size 495x300 with 1 Axes>"
            ],
            "image/png": "[encoded data removed]"
          },
          "metadata": {}
        },
        {
          "output_type": "stream",
          "name": "stdout",
          "text": [
            "time: 305 ms (started: 2023-04-11 17:36:41 +00:00)\n"
          ]
        }
      ]
    },
    {
      "cell_type": "code",
      "source": [
        "#Loss curves\n",
        "plt.figure(figsize=(3.3,2),dpi=150)\n",
        "plt.plot(train_loss_hist, color = '#ff1f5b', label = 'Training')\n",
        "#plt.plot(test_loss_hist, color = '#009ade', label = 'Validation')\n",
        "#plt.legend(loc = 'upper left', fontsize=6)\n",
        "plt.xlabel('Iterations', fontsize = 8)\n",
        "plt.ylabel('Loss', fontsize = 8)\n",
        "plt.tick_params(axis='both', labelsize=6)\n",
        "plt.title('Training loss', fontsize = 9, pad = 10);"
      ],
      "metadata": {
        "colab": {
          "base_uri": "https://localhost:8080/",
          "height": 385
        },
        "id": "wqPRdWlqZQNn",
        "outputId": "c1e6c9be-41ee-4787-ebbb-b44db106c594"
      },
      "execution_count": 22,
      "outputs": [
        {
          "output_type": "display_data",
          "data": {
            "text/plain": [
              "<Figure size 495x300 with 1 Axes>"
            ],
            "image/png": "[encoded data removed]"
          },
          "metadata": {}
        },
        {
          "output_type": "stream",
          "name": "stdout",
          "text": [
            "time: 369 ms (started: 2023-04-11 17:39:02 +00:00)\n"
          ]
        }
      ]
    }
  ],
  "metadata": {
    "accelerator": "GPU",
    "colab": {
      "provenance": [],
      "include_colab_link": true
    },
    "gpuClass": "standard",
    "kernelspec": {
      "display_name": "Python 3",
      "name": "python3"
    },
    "language_info": {
      "name": "python"
    },
    "widgets": {
      "application/vnd.jupyter.widget-state+json": {
        "e6a4d40b1f6f4d3caf25394670fb93b0": {
          "model_module": "@jupyter-widgets/controls",
          "model_name": "HBoxModel",
          "model_module_version": "1.5.0",
          "state": {
            "_dom_classes": [],
            "_model_module": "@jupyter-widgets/controls",
            "_model_module_version": "1.5.0",
            "_model_name": "HBoxModel",
            "_view_count": null,
            "_view_module": "@jupyter-widgets/controls",
            "_view_module_version": "1.5.0",
            "_view_name": "HBoxView",
            "box_style": "",
            "children": [
              "IPY_MODEL_2135b7e6a7da4f8b8271a9b3fd9746ba",
              "IPY_MODEL_7507930fced04d44a43f2bfb00efd0ae",
              "IPY_MODEL_1823b259a9fb46de8e5c137adfea7db9"
            ],
            "layout": "IPY_MODEL_bd9b77b68a5846f4aeb1576577e4f5bd"
          }
        },
        "2135b7e6a7da4f8b8271a9b3fd9746ba": {
          "model_module": "@jupyter-widgets/controls",
          "model_name": "HTMLModel",
          "model_module_version": "1.5.0",
          "state": {
            "_dom_classes": [],
            "_model_module": "@jupyter-widgets/controls",
            "_model_module_version": "1.5.0",
            "_model_name": "HTMLModel",
            "_view_count": null,
            "_view_module": "@jupyter-widgets/controls",
            "_view_module_version": "1.5.0",
            "_view_name": "HTMLView",
            "description": "",
            "description_tooltip": null,
            "layout": "IPY_MODEL_08a307cb19d3433cb0a5c8c207f17bee",
            "placeholder": "​",
            "style": "IPY_MODEL_6d74ef61ed4c453794201ce246c04a3f",
            "value": ""
          }
        },
        "7507930fced04d44a43f2bfb00efd0ae": {
          "model_module": "@jupyter-widgets/controls",
          "model_name": "FloatProgressModel",
          "model_module_version": "1.5.0",
          "state": {
            "_dom_classes": [],
            "_model_module": "@jupyter-widgets/controls",
            "_model_module_version": "1.5.0",
            "_model_name": "FloatProgressModel",
            "_view_count": null,
            "_view_module": "@jupyter-widgets/controls",
            "_view_module_version": "1.5.0",
            "_view_name": "ProgressView",
            "bar_style": "success",
            "description": "",
            "description_tooltip": null,
            "layout": "IPY_MODEL_8d843b85f9b64535901764077333c61c",
            "max": 130863613,
            "min": 0,
            "orientation": "horizontal",
            "style": "IPY_MODEL_a869e82c1f55435d98b2fcba8785ed67",
            "value": 130863613
          }
        },
        "1823b259a9fb46de8e5c137adfea7db9": {
          "model_module": "@jupyter-widgets/controls",
          "model_name": "HTMLModel",
          "model_module_version": "1.5.0",
          "state": {
            "_dom_classes": [],
            "_model_module": "@jupyter-widgets/controls",
            "_model_module_version": "1.5.0",
            "_model_name": "HTMLModel",
            "_view_count": null,
            "_view_module": "@jupyter-widgets/controls",
            "_view_module_version": "1.5.0",
            "_view_name": "HTMLView",
            "description": "",
            "description_tooltip": null,
            "layout": "IPY_MODEL_2ce290ba1f2c49fabf969b20c0b876b5",
            "placeholder": "​",
            "style": "IPY_MODEL_5314ea8f75ca43289537e893de26b68b",
            "value": " 130864128/? [00:10&lt;00:00, 12447699.47it/s]"
          }
        },
        "bd9b77b68a5846f4aeb1576577e4f5bd": {
          "model_module": "@jupyter-widgets/base",
          "model_name": "LayoutModel",
          "model_module_version": "1.2.0",
          "state": {
            "_model_module": "@jupyter-widgets/base",
            "_model_module_version": "1.2.0",
            "_model_name": "LayoutModel",
            "_view_count": null,
            "_view_module": "@jupyter-widgets/base",
            "_view_module_version": "1.2.0",
            "_view_name": "LayoutView",
            "align_content": null,
            "align_items": null,
            "align_self": null,
            "border": null,
            "bottom": null,
            "display": null,
            "flex": null,
            "flex_flow": null,
            "grid_area": null,
            "grid_auto_columns": null,
            "grid_auto_flow": null,
            "grid_auto_rows": null,
            "grid_column": null,
            "grid_gap": null,
            "grid_row": null,
            "grid_template_areas": null,
            "grid_template_columns": null,
            "grid_template_rows": null,
            "height": null,
            "justify_content": null,
            "justify_items": null,
            "left": null,
            "margin": null,
            "max_height": null,
            "max_width": null,
            "min_height": null,
            "min_width": null,
            "object_fit": null,
            "object_position": null,
            "order": null,
            "overflow": null,
            "overflow_x": null,
            "overflow_y": null,
            "padding": null,
            "right": null,
            "top": null,
            "visibility": null,
            "width": null
          }
        },
        "08a307cb19d3433cb0a5c8c207f17bee": {
          "model_module": "@jupyter-widgets/base",
          "model_name": "LayoutModel",
          "model_module_version": "1.2.0",
          "state": {
            "_model_module": "@jupyter-widgets/base",
            "_model_module_version": "1.2.0",
            "_model_name": "LayoutModel",
            "_view_count": null,
            "_view_module": "@jupyter-widgets/base",
            "_view_module_version": "1.2.0",
            "_view_name": "LayoutView",
            "align_content": null,
            "align_items": null,
            "align_self": null,
            "border": null,
            "bottom": null,
            "display": null,
            "flex": null,
            "flex_flow": null,
            "grid_area": null,
            "grid_auto_columns": null,
            "grid_auto_flow": null,
            "grid_auto_rows": null,
            "grid_column": null,
            "grid_gap": null,
            "grid_row": null,
            "grid_template_areas": null,
            "grid_template_columns": null,
            "grid_template_rows": null,
            "height": null,
            "justify_content": null,
            "justify_items": null,
            "left": null,
            "margin": null,
            "max_height": null,
            "max_width": null,
            "min_height": null,
            "min_width": null,
            "object_fit": null,
            "object_position": null,
            "order": null,
            "overflow": null,
            "overflow_x": null,
            "overflow_y": null,
            "padding": null,
            "right": null,
            "top": null,
            "visibility": null,
            "width": null
          }
        },
        "6d74ef61ed4c453794201ce246c04a3f": {
          "model_module": "@jupyter-widgets/controls",
          "model_name": "DescriptionStyleModel",
          "model_module_version": "1.5.0",
          "state": {
            "_model_module": "@jupyter-widgets/controls",
            "_model_module_version": "1.5.0",
            "_model_name": "DescriptionStyleModel",
            "_view_count": null,
            "_view_module": "@jupyter-widgets/base",
            "_view_module_version": "1.2.0",
            "_view_name": "StyleView",
            "description_width": ""
          }
        },
        "8d843b85f9b64535901764077333c61c": {
          "model_module": "@jupyter-widgets/base",
          "model_name": "LayoutModel",
          "model_module_version": "1.2.0",
          "state": {
            "_model_module": "@jupyter-widgets/base",
            "_model_module_version": "1.2.0",
            "_model_name": "LayoutModel",
            "_view_count": null,
            "_view_module": "@jupyter-widgets/base",
            "_view_module_version": "1.2.0",
            "_view_name": "LayoutView",
            "align_content": null,
            "align_items": null,
            "align_self": null,
            "border": null,
            "bottom": null,
            "display": null,
            "flex": null,
            "flex_flow": null,
            "grid_area": null,
            "grid_auto_columns": null,
            "grid_auto_flow": null,
            "grid_auto_rows": null,
            "grid_column": null,
            "grid_gap": null,
            "grid_row": null,
            "grid_template_areas": null,
            "grid_template_columns": null,
            "grid_template_rows": null,
            "height": null,
            "justify_content": null,
            "justify_items": null,
            "left": null,
            "margin": null,
            "max_height": null,
            "max_width": null,
            "min_height": null,
            "min_width": null,
            "object_fit": null,
            "object_position": null,
            "order": null,
            "overflow": null,
            "overflow_x": null,
            "overflow_y": null,
            "padding": null,
            "right": null,
            "top": null,
            "visibility": null,
            "width": null
          }
        },
        "a869e82c1f55435d98b2fcba8785ed67": {
          "model_module": "@jupyter-widgets/controls",
          "model_name": "ProgressStyleModel",
          "model_module_version": "1.5.0",
          "state": {
            "_model_module": "@jupyter-widgets/controls",
            "_model_module_version": "1.5.0",
            "_model_name": "ProgressStyleModel",
            "_view_count": null,
            "_view_module": "@jupyter-widgets/base",
            "_view_module_version": "1.2.0",
            "_view_name": "StyleView",
            "bar_color": null,
            "description_width": ""
          }
        },
        "2ce290ba1f2c49fabf969b20c0b876b5": {
          "model_module": "@jupyter-widgets/base",
          "model_name": "LayoutModel",
          "model_module_version": "1.2.0",
          "state": {
            "_model_module": "@jupyter-widgets/base",
            "_model_module_version": "1.2.0",
            "_model_name": "LayoutModel",
            "_view_count": null,
            "_view_module": "@jupyter-widgets/base",
            "_view_module_version": "1.2.0",
            "_view_name": "LayoutView",
            "align_content": null,
            "align_items": null,
            "align_self": null,
            "border": null,
            "bottom": null,
            "display": null,
            "flex": null,
            "flex_flow": null,
            "grid_area": null,
            "grid_auto_columns": null,
            "grid_auto_flow": null,
            "grid_auto_rows": null,
            "grid_column": null,
            "grid_gap": null,
            "grid_row": null,
            "grid_template_areas": null,
            "grid_template_columns": null,
            "grid_template_rows": null,
            "height": null,
            "justify_content": null,
            "justify_items": null,
            "left": null,
            "margin": null,
            "max_height": null,
            "max_width": null,
            "min_height": null,
            "min_width": null,
            "object_fit": null,
            "object_position": null,
            "order": null,
            "overflow": null,
            "overflow_x": null,
            "overflow_y": null,
            "padding": null,
            "right": null,
            "top": null,
            "visibility": null,
            "width": null
          }
        },
        "5314ea8f75ca43289537e893de26b68b": {
          "model_module": "@jupyter-widgets/controls",
          "model_name": "DescriptionStyleModel",
          "model_module_version": "1.5.0",
          "state": {
            "_model_module": "@jupyter-widgets/controls",
            "_model_module_version": "1.5.0",
            "_model_name": "DescriptionStyleModel",
            "_view_count": null,
            "_view_module": "@jupyter-widgets/base",
            "_view_module_version": "1.2.0",
            "_view_name": "StyleView",
            "description_width": ""
          }
        },
        "a99fcee28b2545d0a152dd1bf1f121b4": {
          "model_module": "@jupyter-widgets/controls",
          "model_name": "HBoxModel",
          "model_module_version": "1.5.0",
          "state": {
            "_dom_classes": [],
            "_model_module": "@jupyter-widgets/controls",
            "_model_module_version": "1.5.0",
            "_model_name": "HBoxModel",
            "_view_count": null,
            "_view_module": "@jupyter-widgets/controls",
            "_view_module_version": "1.5.0",
            "_view_name": "HBoxView",
            "box_style": "",
            "children": [
              "IPY_MODEL_720cc69202e149bd89e4ee47e8ae8bf3",
              "IPY_MODEL_924a85a43bef41f5881cb4d65f7f2427",
              "IPY_MODEL_60eacd96b610467a8732ece70eb37e3d"
            ],
            "layout": "IPY_MODEL_8d3d837952d24cc0968ed69b8f17afde"
          }
        },
        "720cc69202e149bd89e4ee47e8ae8bf3": {
          "model_module": "@jupyter-widgets/controls",
          "model_name": "HTMLModel",
          "model_module_version": "1.5.0",
          "state": {
            "_dom_classes": [],
            "_model_module": "@jupyter-widgets/controls",
            "_model_module_version": "1.5.0",
            "_model_name": "HTMLModel",
            "_view_count": null,
            "_view_module": "@jupyter-widgets/controls",
            "_view_module_version": "1.5.0",
            "_view_name": "HTMLView",
            "description": "",
            "description_tooltip": null,
            "layout": "IPY_MODEL_c90ed28ce7064b208b6d2ef247bed9c0",
            "placeholder": "​",
            "style": "IPY_MODEL_bf96a0d25a5e44b28c5b63fc6ab67a05",
            "value": ""
          }
        },
        "924a85a43bef41f5881cb4d65f7f2427": {
          "model_module": "@jupyter-widgets/controls",
          "model_name": "FloatProgressModel",
          "model_module_version": "1.5.0",
          "state": {
            "_dom_classes": [],
            "_model_module": "@jupyter-widgets/controls",
            "_model_module_version": "1.5.0",
            "_model_name": "FloatProgressModel",
            "_view_count": null,
            "_view_module": "@jupyter-widgets/controls",
            "_view_module_version": "1.5.0",
            "_view_name": "ProgressView",
            "bar_style": "success",
            "description": "",
            "description_tooltip": null,
            "layout": "IPY_MODEL_ee452e88ea5044e8b04053acc52cc80a",
            "max": 38141465,
            "min": 0,
            "orientation": "horizontal",
            "style": "IPY_MODEL_b01a1cc6b33549a1b290dd077351f13f",
            "value": 38141465
          }
        },
        "60eacd96b610467a8732ece70eb37e3d": {
          "model_module": "@jupyter-widgets/controls",
          "model_name": "HTMLModel",
          "model_module_version": "1.5.0",
          "state": {
            "_dom_classes": [],
            "_model_module": "@jupyter-widgets/controls",
            "_model_module_version": "1.5.0",
            "_model_name": "HTMLModel",
            "_view_count": null,
            "_view_module": "@jupyter-widgets/controls",
            "_view_module_version": "1.5.0",
            "_view_name": "HTMLView",
            "description": "",
            "description_tooltip": null,
            "layout": "IPY_MODEL_224f5632e77a45bf9b4922d4ed63c212",
            "placeholder": "​",
            "style": "IPY_MODEL_803ada8e322b4f6cab9531f275ca1ca3",
            "value": " 38141952/? [00:03&lt;00:00, 15264543.63it/s]"
          }
        },
        "8d3d837952d24cc0968ed69b8f17afde": {
          "model_module": "@jupyter-widgets/base",
          "model_name": "LayoutModel",
          "model_module_version": "1.2.0",
          "state": {
            "_model_module": "@jupyter-widgets/base",
            "_model_module_version": "1.2.0",
            "_model_name": "LayoutModel",
            "_view_count": null,
            "_view_module": "@jupyter-widgets/base",
            "_view_module_version": "1.2.0",
            "_view_name": "LayoutView",
            "align_content": null,
            "align_items": null,
            "align_self": null,
            "border": null,
            "bottom": null,
            "display": null,
            "flex": null,
            "flex_flow": null,
            "grid_area": null,
            "grid_auto_columns": null,
            "grid_auto_flow": null,
            "grid_auto_rows": null,
            "grid_column": null,
            "grid_gap": null,
            "grid_row": null,
            "grid_template_areas": null,
            "grid_template_columns": null,
            "grid_template_rows": null,
            "height": null,
            "justify_content": null,
            "justify_items": null,
            "left": null,
            "margin": null,
            "max_height": null,
            "max_width": null,
            "min_height": null,
            "min_width": null,
            "object_fit": null,
            "object_position": null,
            "order": null,
            "overflow": null,
            "overflow_x": null,
            "overflow_y": null,
            "padding": null,
            "right": null,
            "top": null,
            "visibility": null,
            "width": null
          }
        },
        "c90ed28ce7064b208b6d2ef247bed9c0": {
          "model_module": "@jupyter-widgets/base",
          "model_name": "LayoutModel",
          "model_module_version": "1.2.0",
          "state": {
            "_model_module": "@jupyter-widgets/base",
            "_model_module_version": "1.2.0",
            "_model_name": "LayoutModel",
            "_view_count": null,
            "_view_module": "@jupyter-widgets/base",
            "_view_module_version": "1.2.0",
            "_view_name": "LayoutView",
            "align_content": null,
            "align_items": null,
            "align_self": null,
            "border": null,
            "bottom": null,
            "display": null,
            "flex": null,
            "flex_flow": null,
            "grid_area": null,
            "grid_auto_columns": null,
            "grid_auto_flow": null,
            "grid_auto_rows": null,
            "grid_column": null,
            "grid_gap": null,
            "grid_row": null,
            "grid_template_areas": null,
            "grid_template_columns": null,
            "grid_template_rows": null,
            "height": null,
            "justify_content": null,
            "justify_items": null,
            "left": null,
            "margin": null,
            "max_height": null,
            "max_width": null,
            "min_height": null,
            "min_width": null,
            "object_fit": null,
            "object_position": null,
            "order": null,
            "overflow": null,
            "overflow_x": null,
            "overflow_y": null,
            "padding": null,
            "right": null,
            "top": null,
            "visibility": null,
            "width": null
          }
        },
        "bf96a0d25a5e44b28c5b63fc6ab67a05": {
          "model_module": "@jupyter-widgets/controls",
          "model_name": "DescriptionStyleModel",
          "model_module_version": "1.5.0",
          "state": {
            "_model_module": "@jupyter-widgets/controls",
            "_model_module_version": "1.5.0",
            "_model_name": "DescriptionStyleModel",
            "_view_count": null,
            "_view_module": "@jupyter-widgets/base",
            "_view_module_version": "1.2.0",
            "_view_name": "StyleView",
            "description_width": ""
          }
        },
        "ee452e88ea5044e8b04053acc52cc80a": {
          "model_module": "@jupyter-widgets/base",
          "model_name": "LayoutModel",
          "model_module_version": "1.2.0",
          "state": {
            "_model_module": "@jupyter-widgets/base",
            "_model_module_version": "1.2.0",
            "_model_name": "LayoutModel",
            "_view_count": null,
            "_view_module": "@jupyter-widgets/base",
            "_view_module_version": "1.2.0",
            "_view_name": "LayoutView",
            "align_content": null,
            "align_items": null,
            "align_self": null,
            "border": null,
            "bottom": null,
            "display": null,
            "flex": null,
            "flex_flow": null,
            "grid_area": null,
            "grid_auto_columns": null,
            "grid_auto_flow": null,
            "grid_auto_rows": null,
            "grid_column": null,
            "grid_gap": null,
            "grid_row": null,
            "grid_template_areas": null,
            "grid_template_columns": null,
            "grid_template_rows": null,
            "height": null,
            "justify_content": null,
            "justify_items": null,
            "left": null,
            "margin": null,
            "max_height": null,
            "max_width": null,
            "min_height": null,
            "min_width": null,
            "object_fit": null,
            "object_position": null,
            "order": null,
            "overflow": null,
            "overflow_x": null,
            "overflow_y": null,
            "padding": null,
            "right": null,
            "top": null,
            "visibility": null,
            "width": null
          }
        },
        "b01a1cc6b33549a1b290dd077351f13f": {
          "model_module": "@jupyter-widgets/controls",
          "model_name": "ProgressStyleModel",
          "model_module_version": "1.5.0",
          "state": {
            "_model_module": "@jupyter-widgets/controls",
            "_model_module_version": "1.5.0",
            "_model_name": "ProgressStyleModel",
            "_view_count": null,
            "_view_module": "@jupyter-widgets/base",
            "_view_module_version": "1.2.0",
            "_view_name": "StyleView",
            "bar_color": null,
            "description_width": ""
          }
        },
        "224f5632e77a45bf9b4922d4ed63c212": {
          "model_module": "@jupyter-widgets/base",
          "model_name": "LayoutModel",
          "model_module_version": "1.2.0",
          "state": {
            "_model_module": "@jupyter-widgets/base",
            "_model_module_version": "1.2.0",
            "_model_name": "LayoutModel",
            "_view_count": null,
            "_view_module": "@jupyter-widgets/base",
            "_view_module_version": "1.2.0",
            "_view_name": "LayoutView",
            "align_content": null,
            "align_items": null,
            "align_self": null,
            "border": null,
            "bottom": null,
            "display": null,
            "flex": null,
            "flex_flow": null,
            "grid_area": null,
            "grid_auto_columns": null,
            "grid_auto_flow": null,
            "grid_auto_rows": null,
            "grid_column": null,
            "grid_gap": null,
            "grid_row": null,
            "grid_template_areas": null,
            "grid_template_columns": null,
            "grid_template_rows": null,
            "height": null,
            "justify_content": null,
            "justify_items": null,
            "left": null,
            "margin": null,
            "max_height": null,
            "max_width": null,
            "min_height": null,
            "min_width": null,
            "object_fit": null,
            "object_position": null,
            "order": null,
            "overflow": null,
            "overflow_x": null,
            "overflow_y": null,
            "padding": null,
            "right": null,
            "top": null,
            "visibility": null,
            "width": null
          }
        },
        "803ada8e322b4f6cab9531f275ca1ca3": {
          "model_module": "@jupyter-widgets/controls",
          "model_name": "DescriptionStyleModel",
          "model_module_version": "1.5.0",
          "state": {
            "_model_module": "@jupyter-widgets/controls",
            "_model_module_version": "1.5.0",
            "_model_name": "DescriptionStyleModel",
            "_view_count": null,
            "_view_module": "@jupyter-widgets/base",
            "_view_module_version": "1.2.0",
            "_view_name": "StyleView",
            "description_width": ""
          }
        }
      }
    }
  },
  "nbformat": 4,
  "nbformat_minor": 0
}
